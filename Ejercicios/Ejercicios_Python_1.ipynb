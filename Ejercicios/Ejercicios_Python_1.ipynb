{
 "cells": [
  {
   "cell_type": "markdown",
   "id": "ac678684",
   "metadata": {},
   "source": [
    "# Int a decimal"
   ]
  },
  {
   "cell_type": "code",
   "execution_count": 7,
   "id": "2c4b5d29",
   "metadata": {},
   "outputs": [
    {
     "name": "stdout",
     "output_type": "stream",
     "text": [
      "El numero es de tipo <class 'int'>\n",
      "El numero es de tipo <class 'decimal.Decimal'>\n"
     ]
    }
   ],
   "source": [
    "import decimal\n",
    "numero = 10\n",
    "print(f\"El numero es de tipo {type(numero)}\")\n",
    "\n",
    "numero= decimal.Decimal(numero)\n",
    "\n",
    "print(f\"El numero es de tipo {type(numero)}\")"
   ]
  },
  {
   "cell_type": "markdown",
   "id": "121981b5",
   "metadata": {},
   "source": [
    "# String a decimal"
   ]
  },
  {
   "cell_type": "code",
   "execution_count": 10,
   "id": "0529ee93",
   "metadata": {},
   "outputs": [
    {
     "name": "stdout",
     "output_type": "stream",
     "text": [
      "<class 'str'>\n",
      "<class 'decimal.Decimal'>\n"
     ]
    }
   ],
   "source": [
    "string = \"12345\"\n",
    "print(type(string))\n",
    "\n",
    "string=decimal.Decimal(string)\n",
    "print(type(string))"
   ]
  },
  {
   "cell_type": "markdown",
   "id": "c4dde620",
   "metadata": {},
   "source": [
    "# Reversar texto"
   ]
  },
  {
   "cell_type": "code",
   "execution_count": 14,
   "id": "327be6d5",
   "metadata": {},
   "outputs": [
    {
     "name": "stdout",
     "output_type": "stream",
     "text": [
      "Mi nombre es Diego\n",
      "ogeiD se erbmon iM\n"
     ]
    }
   ],
   "source": [
    "texto = \"Mi nombre es Diego\"\n",
    "print(texto)\n",
    "texto_invertido= texto[::-1]\n",
    "print(texto_invertido)"
   ]
  },
  {
   "cell_type": "markdown",
   "id": "2aea5e1a",
   "metadata": {},
   "source": [
    "# Contar vocales en una palabra"
   ]
  },
  {
   "cell_type": "code",
   "execution_count": 23,
   "id": "7ad11c0f",
   "metadata": {},
   "outputs": [
    {
     "name": "stdout",
     "output_type": "stream",
     "text": [
      "En la palabra:  paralelepipedo\n",
      "La a se ha repetido 2 veces\n",
      "La e se ha repetido 3 veces\n",
      "La i se ha repetido 1 veces\n",
      "La o se ha repetido 1 veces\n",
      "La u se ha repetido 0 veces\n"
     ]
    }
   ],
   "source": [
    "vocales= [\"a\",\"e\",\"i\",\"o\",\"u\"]\n",
    "palabra=\"paralelepipedo\"\n",
    "\n",
    "a=0\n",
    "e=0\n",
    "i=0\n",
    "o=0\n",
    "u=0\n",
    "\n",
    "for letra in palabra:\n",
    "    if letra in vocales:\n",
    "        if letra==\"a\":\n",
    "            a=a+1\n",
    "        if letra==\"e\":\n",
    "            e=e+1\n",
    "        if letra==\"o\":\n",
    "            o=o+1\n",
    "        if letra==\"u\":\n",
    "            u=u+1\n",
    "        if letra==\"i\":\n",
    "            i=i+1\n",
    "print(\"En la palabra: \",palabra)\n",
    "print(\"La a se ha repetido\",a,\"veces\")\n",
    "print(\"La e se ha repetido\",e,\"veces\")\n",
    "print(\"La i se ha repetido\",i,\"veces\")\n",
    "print(\"La o se ha repetido\",o,\"veces\")\n",
    "print(\"La u se ha repetido\",u,\"veces\")\n"
   ]
  },
  {
   "cell_type": "code",
   "execution_count": 48,
   "id": "40483dcb",
   "metadata": {},
   "outputs": [
    {
     "data": {
      "text/plain": [
       "2"
      ]
     },
     "execution_count": 48,
     "metadata": {},
     "output_type": "execute_result"
    }
   ],
   "source": [
    "palabra= \"paralelepipedo\"\n",
    "\n",
    "palabra.count(\"a\")"
   ]
  },
  {
   "cell_type": "markdown",
   "id": "1bcfd014",
   "metadata": {},
   "source": [
    "# Contar consonantes en una palabra"
   ]
  },
  {
   "cell_type": "code",
   "execution_count": 31,
   "id": "b262dfa4",
   "metadata": {},
   "outputs": [
    {
     "name": "stdout",
     "output_type": "stream",
     "text": [
      "Hay 7 consonantes en la palabra: paralelepipedo\n"
     ]
    }
   ],
   "source": [
    "vocales= [\"a\",\"e\",\"i\",\"o\",\"u\"]\n",
    "palabra=\"paralelepipedo\"\n",
    "\n",
    "contador= 0\n",
    "\n",
    "for letra in palabra:\n",
    "    if letra not in vocales:\n",
    "        contador=contador+1\n",
    "\n",
    "print(f\"Hay {contador} consonantes en la palabra: {palabra}\")\n"
   ]
  },
  {
   "cell_type": "markdown",
   "id": "901dd3c9",
   "metadata": {},
   "source": [
    "# Buscar número mayor en una lista"
   ]
  },
  {
   "cell_type": "code",
   "execution_count": 35,
   "id": "c0bf1c63",
   "metadata": {},
   "outputs": [
    {
     "name": "stdout",
     "output_type": "stream",
     "text": [
      "99\n"
     ]
    }
   ],
   "source": [
    "lista = [1,0,5,1,2,99,3]\n",
    "\n",
    "mayor=lista[0]\n",
    "\n",
    "for numero in lista:\n",
    "    if numero>mayor:\n",
    "        mayor=numero\n",
    "        \n",
    "print(mayor)"
   ]
  },
  {
   "cell_type": "code",
   "execution_count": 44,
   "id": "04145ec0",
   "metadata": {},
   "outputs": [
    {
     "name": "stdout",
     "output_type": "stream",
     "text": [
      "El número mayor es 1002 y se encuentra en la 1 posicion de la lista\n",
      "El numero mayor se repite 2 veces. Se encuentra en las posiciones [1, 8]\n"
     ]
    }
   ],
   "source": [
    "lista = [1,1002,0,5,1,2,99,3,1002]\n",
    "\n",
    "mayor=lista[0]\n",
    "posicion=0\n",
    "\n",
    "for i,numero in enumerate(lista):\n",
    "    if numero > mayor:\n",
    "        mayor=numero\n",
    "        posicion=i\n",
    "\n",
    "contador=0\n",
    "posiciones=[]\n",
    "\n",
    "for i,numero in enumerate(lista):\n",
    "    if numero == mayor:\n",
    "        contador=contador+1\n",
    "        posiciones.append(i)\n",
    "\n",
    "print(f\"El número mayor es {mayor} y se encuentra en la {posicion} posicion de la lista\")\n",
    "\n",
    "if contador!=0:\n",
    "    print(f\"El numero mayor se repite {contador} veces. Se encuentra en las posiciones {posiciones}\")"
   ]
  },
  {
   "cell_type": "markdown",
   "id": "706216f9",
   "metadata": {},
   "source": [
    "# Anagramas"
   ]
  },
  {
   "cell_type": "code",
   "execution_count": 60,
   "id": "493035b3",
   "metadata": {},
   "outputs": [
    {
     "name": "stdout",
     "output_type": "stream",
     "text": [
      "Ingrese la palabra 1safas\n",
      "Ingrese la palabra 2\n",
      "La palabra safas y  no son anagramas\n"
     ]
    }
   ],
   "source": [
    "#listen\n",
    "#silent\n",
    "palabra1_original=str(input(\"Ingrese la palabra 1\"))\n",
    "palabra2_original =str(input(\"Ingrese la palabra 2\"))\n",
    "\n",
    "palabra1 = palabra1_original\n",
    "palabra2 = palabra2_original\n",
    "\n",
    "palabra1= list(palabra1.lower())\n",
    "palabra2=list(palabra2.lower())\n",
    "palabra1.sort()\n",
    "palabra2.sort()\n",
    "\n",
    "if palabra1==palabra2:\n",
    "    print(f\"La palabra {palabra1_original} y {palabra2_original} son anagramas\")\n",
    "else:\n",
    "    print(f\"La palabra {palabra1_original} y {palabra2_original} no son anagramas\")"
   ]
  },
  {
   "cell_type": "code",
   "execution_count": 4,
   "id": "13ccb21c",
   "metadata": {},
   "outputs": [
    {
     "name": "stdout",
     "output_type": "stream",
     "text": [
      "11111hello111111\n"
     ]
    }
   ],
   "source": [
    "palabra=\"hello\"\n",
    "print(palabra.center(10,\"1\"))"
   ]
  }
 ],
 "metadata": {
  "kernelspec": {
   "display_name": "Python 3 (ipykernel)",
   "language": "python",
   "name": "python3"
  },
  "language_info": {
   "codemirror_mode": {
    "name": "ipython",
    "version": 3
   },
   "file_extension": ".py",
   "mimetype": "text/x-python",
   "name": "python",
   "nbconvert_exporter": "python",
   "pygments_lexer": "ipython3",
   "version": "3.9.13"
  }
 },
 "nbformat": 4,
 "nbformat_minor": 5
}
