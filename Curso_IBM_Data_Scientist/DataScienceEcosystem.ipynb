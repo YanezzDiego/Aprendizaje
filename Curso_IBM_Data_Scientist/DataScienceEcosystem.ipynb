{
 "cells": [
  {
   "cell_type": "markdown",
   "id": "38fb7320",
   "metadata": {},
   "source": [
    "# Data Science Tools and Ecosystem"
   ]
  },
  {
   "cell_type": "markdown",
   "id": "714f3d81",
   "metadata": {},
   "source": [
    "In this notebook, Data Science Tools and Ecosystem are summarized."
   ]
  },
  {
   "cell_type": "markdown",
   "id": "be29526d",
   "metadata": {},
   "source": [
    "**Objectives:**\n",
    "+ List popular languages for Data Science\n",
    "+ List commonly libraries used by Data Scientist\n",
    "+ List popular Data Science Development Environment Open Source Tools\n",
    "+ Evaluate arithmetic expressions\n"
   ]
  },
  {
   "cell_type": "markdown",
   "id": "2b38ffb3",
   "metadata": {},
   "source": [
    "Some of the popular languages that Data Scientists use are:\n",
    "   1. Python\n",
    "   2. R\n",
    "   3. Scala\n",
    "   4. JavaScript"
   ]
  },
  {
   "cell_type": "markdown",
   "id": "30169555",
   "metadata": {},
   "source": [
    "Some of the commonly used libraries used by Data Scientists include:\n",
    "   1. Pandas\n",
    "   2. Scikit-learn\n",
    "   3. TensorFlow\n",
    "   4. matplotlib\n",
    "   5. Keras\n",
    "   6. NumPy\n",
    "   7. caret\n",
    "   8. ggplot\n",
    "   9. TensorFlow.js"
   ]
  },
  {
   "cell_type": "markdown",
   "id": "2bd1f3d6",
   "metadata": {},
   "source": [
    "| Data Science Tools |\n",
    "|--------------------|\n",
    "| Visual Studio Code | \n",
    "| Jupyter Notebook   | \n",
    "| RStudio            | \n",
    "| Spyder              |"
   ]
  },
  {
   "cell_type": "markdown",
   "id": "8e497bd0",
   "metadata": {},
   "source": [
    "### Below are a few examples of evaluating arithmetic expressions in Python."
   ]
  },
  {
   "cell_type": "code",
   "execution_count": 3,
   "id": "46b13ba0",
   "metadata": {},
   "outputs": [
    {
     "data": {
      "text/plain": [
       "17"
      ]
     },
     "execution_count": 3,
     "metadata": {},
     "output_type": "execute_result"
    }
   ],
   "source": [
    "(3*4)+5 #This a simple arithmetic expression to mutiply then add integers"
   ]
  },
  {
   "cell_type": "code",
   "execution_count": 7,
   "id": "c041a38b",
   "metadata": {},
   "outputs": [
    {
     "name": "stdout",
     "output_type": "stream",
     "text": [
      "200 minutes is 3.33 hours\n"
     ]
    }
   ],
   "source": [
    "minutes = 200\n",
    "hours = minutes/60 #This will convert 200 minutes to hours by diving by 60\n",
    "print(f\"{minutes} minutes is {round(hours,2)} hours\")"
   ]
  },
  {
   "cell_type": "markdown",
   "id": "79e21e0a",
   "metadata": {},
   "source": [
    "## Author\n",
    "[Diego Yáñez Oyarce](https://www.linkedin.com/in/diegoyanezo/)"
   ]
  }
 ],
 "metadata": {
  "kernelspec": {
   "display_name": "Python 3 (ipykernel)",
   "language": "python",
   "name": "python3"
  },
  "language_info": {
   "codemirror_mode": {
    "name": "ipython",
    "version": 3
   },
   "file_extension": ".py",
   "mimetype": "text/x-python",
   "name": "python",
   "nbconvert_exporter": "python",
   "pygments_lexer": "ipython3",
   "version": "3.9.13"
  }
 },
 "nbformat": 4,
 "nbformat_minor": 5
}
