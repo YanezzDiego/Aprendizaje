{
 "cells": [
  {
   "cell_type": "markdown",
   "id": "4ee1c912",
   "metadata": {},
   "source": [
    "# Clase 1 - Python\n",
    "\n",
    "## ¿Qué es un algoritmo?\n",
    "\n",
    "> Serie de pasos para ejecutar una tarea en específico. Por ejemplo, una receta\n",
    "de cocina. \n",
    "\n",
    "Los algoritmos no son necesariamente digitales, pueden perfectamente manifestarse en el día a día como el último ejemplo. Lo que atañe a este curso es cuando hablamos de un algoritmo digital o algoritmo informático, en este caso el receptor de nuestro paso a paso (algoritmo) es una máquina.\n",
    "\n",
    "## ¿Qué es un lenguaje de programación?\n",
    "\n",
    "Basicamente un LP es un nuevo idioma que se aprende para **interactuar con las máquinas**. Una heramienta para que poder realizar tareas específicas a través de un software y/o hardware.\n",
    "\n",
    "Aplicaciones:\n",
    "\n",
    "- Programación Web\n",
    "- Backend y Frontend\n",
    "- Robótica\n",
    "- Ciencia\n",
    "- Ciencia de datos\n",
    "- Inteligencia Artificial\n",
    "- Programación móvil\n",
    "\n",
    "## ¿Qué es Python?\n",
    "\n",
    "- Es un lenguaje de programación de alto nivel, lo que implica que está más inclinado a la forma de hablar de las personas que de las máquinas. Ejemplo de lenguajes de bajo nivel: C.\n",
    "- Es un lenguaje que acepta muchos paradigmas (maneras) de programación. Sin embargo, destaca casi en su totalidad que es un lenguaje orientado a objetos.\n",
    "- La detección de las variables y su sintaxis es dinámica y mucho más abierta que otros lenguajes de programación.\n",
    "- Es un lenguaje Open Source (muy importante).\n",
    "- Versátil.\n",
    "\n",
    "<img src=\"https://upload.wikimedia.org/wikipedia/commons/b/b3/Command_Prompt_on_Windows_10_RTM.png\" style=\"width=700px\">\n",
    "\n",
    "<img src=\"https://www.freecodecamp.org/news/content/images/2022/04/image-21.png\" style=\"width=700px\">\n",
    "\n",
    "## ¿Donde estamos ahora?\n",
    "\n",
    "Jupyter Lab es un entorno de desarrollo basado en el funcionamiento de los Jupyter Notebooks. En los cuales pueden interactuar tanto texto (y lenguajes de composición de texto) y código de programación.\n",
    "\n",
    "- No es exclusivo de Python\n",
    "- Existen otros entornos que trabajan con notebooks como VS Code, Google Colab, etc.\n",
    "- Admite el uso de lenguajes de composición de textos como LaTeX, HTML y Markdown.\n",
    "\n",
    "## Funcionamiento básico de un notebook"
   ]
  },
  {
   "cell_type": "code",
   "execution_count": null,
   "id": "dcce7a50",
   "metadata": {},
   "outputs": [],
   "source": []
  },
  {
   "cell_type": "markdown",
   "id": "b9487d61",
   "metadata": {},
   "source": [
    "## Nociones de Python\n",
    "\n",
    "Tipos de datos:\n",
    "\n",
    "- Int\n",
    "- Float\n",
    "- String\n",
    "- Boolean"
   ]
  },
  {
   "cell_type": "code",
   "execution_count": 2,
   "id": "8e3234cb",
   "metadata": {},
   "outputs": [
    {
     "data": {
      "text/plain": [
       "int"
      ]
     },
     "execution_count": 2,
     "metadata": {},
     "output_type": "execute_result"
    }
   ],
   "source": [
    "a = 1\n",
    "type(a)"
   ]
  },
  {
   "cell_type": "code",
   "execution_count": 3,
   "id": "2f5f6785",
   "metadata": {
    "scrolled": true
   },
   "outputs": [
    {
     "data": {
      "text/plain": [
       "float"
      ]
     },
     "execution_count": 3,
     "metadata": {},
     "output_type": "execute_result"
    }
   ],
   "source": [
    "a = 1.0\n",
    "type(a)"
   ]
  },
  {
   "cell_type": "code",
   "execution_count": 4,
   "id": "34da998f",
   "metadata": {},
   "outputs": [
    {
     "data": {
      "text/plain": [
       "str"
      ]
     },
     "execution_count": 4,
     "metadata": {},
     "output_type": "execute_result"
    }
   ],
   "source": [
    "palabra = 'Hola'\n",
    "type(palabra)"
   ]
  },
  {
   "cell_type": "code",
   "execution_count": 5,
   "id": "ef3ebcbb",
   "metadata": {
    "scrolled": true
   },
   "outputs": [
    {
     "data": {
      "text/plain": [
       "bool"
      ]
     },
     "execution_count": 5,
     "metadata": {},
     "output_type": "execute_result"
    }
   ],
   "source": [
    "boolean = True #Importante la mayúscula\n",
    "type(boolean)"
   ]
  },
  {
   "cell_type": "markdown",
   "id": "8c00fa4b",
   "metadata": {},
   "source": [
    "### Casting"
   ]
  },
  {
   "cell_type": "code",
   "execution_count": 7,
   "id": "60efe2df",
   "metadata": {},
   "outputs": [
    {
     "data": {
      "text/plain": [
       "int"
      ]
     },
     "execution_count": 7,
     "metadata": {},
     "output_type": "execute_result"
    }
   ],
   "source": [
    "a = int(1.0)\n",
    "type(a)"
   ]
  },
  {
   "cell_type": "code",
   "execution_count": 8,
   "id": "15674522",
   "metadata": {},
   "outputs": [
    {
     "name": "stdout",
     "output_type": "stream",
     "text": [
      "1\n"
     ]
    }
   ],
   "source": [
    "print(a)"
   ]
  },
  {
   "cell_type": "markdown",
   "id": "0da2442f",
   "metadata": {},
   "source": [
    "### Operadores\n",
    "\n",
    "<img src=\"https://static.platzi.com/media/user_upload/1-a5257be9-296d-40be-b7bf-3885edead804.jpg\" style=\"width=700px\">\n",
    "\n",
    "<img src=\"https://www.maquinasvirtuales.eu/ipsoapoo/2020/12/python-aprendiendo-desde-cero-vi-operadores-3.png\" style=\"width=700px\">\n",
    "\n",
    "<img src=\"https://www.maquinasvirtuales.eu/ipsoapoo/2020/12/python-aprendiendo-desde-cero-vi-operadores-2a.png\" style=\"width=700px\">"
   ]
  },
  {
   "cell_type": "markdown",
   "id": "6eae9cae",
   "metadata": {},
   "source": [
    "### Funciones\n",
    "\n",
    "En programación, una función es un bloque de código que puede ser reutilizado con un fin en específico.\n",
    "\n",
    "Normalmente se rigen por la lógica de una caja negra\n",
    "\n",
    "<img src=\"https://upload.wikimedia.org/wikipedia/commons/thumb/4/44/Blackbox3D.png/320px-Blackbox3D.png\" style=\"width=700px\">\n",
    "\n",
    "Sin embargo existen funciones que no requieren de un input o no entregan un output o incluso ambas.\n",
    "\n",
    "Por ejemplo, ya usamos la función `type()`:\n",
    "\n",
    "- **Input**: Variable a evaluar\n",
    "- **Proceso**: Detectar el tipo de variable \n",
    "- **Output**: Entregar el nombre del tipo de variable por consola\n",
    "\n",
    "El objetivo principal de las funciones es la **reutilización/simplificación de código**\n",
    "\n",
    "#### Funciones pre-creadas (librerías)"
   ]
  },
  {
   "cell_type": "code",
   "execution_count": null,
   "id": "24f972f6",
   "metadata": {},
   "outputs": [],
   "source": [
    "import math\n",
    "\n",
    "#sqrt(3)\n",
    "#math.sqrt(4)\n",
    "# math.floor(3.7)\n",
    "# math.factorial(4)"
   ]
  },
  {
   "cell_type": "markdown",
   "id": "53678f7e",
   "metadata": {},
   "source": [
    "#### Creación de funciones\n",
    "\n",
    "Nosotros podemos crear nuestras propias funciones para reutilizarlas en nuestro código. Siguiendo la notación:"
   ]
  },
  {
   "cell_type": "code",
   "execution_count": null,
   "id": "04649cf4",
   "metadata": {},
   "outputs": [],
   "source": [
    "def nombreFuncion(parametros):\n",
    "    "
   ]
  },
  {
   "cell_type": "markdown",
   "id": "a9eab74e",
   "metadata": {},
   "source": [
    "**Importante**: Python es un lenduaje identado.\n",
    "\n",
    "Ejemplo:\n",
    "\n",
    "En EEUU los precios de producto en supermercados no contienen el IVA que es de un 7%, si Harry lleva X USD en productos; defina una función que imprima el mensaje \"El total de la compra de Harry es:\"+resultado. Además se debe poder guardar el valor total (número) en una variable."
   ]
  },
  {
   "cell_type": "code",
   "execution_count": null,
   "id": "18f189e9",
   "metadata": {},
   "outputs": [],
   "source": []
  },
  {
   "cell_type": "markdown",
   "id": "0f658986",
   "metadata": {},
   "source": [
    "#### Ejercicios:\n",
    "\n",
    "1. Crear una función que reciba un nombre e imprima \"Hola mundo, + nombre + es programador\"\n",
    "2. Crear una función que calcule la combinatoria de dos números y que lo devuelva como variable."
   ]
  }
 ],
 "metadata": {
  "kernelspec": {
   "display_name": "Python 3 (ipykernel)",
   "language": "python",
   "name": "python3"
  },
  "language_info": {
   "codemirror_mode": {
    "name": "ipython",
    "version": 3
   },
   "file_extension": ".py",
   "mimetype": "text/x-python",
   "name": "python",
   "nbconvert_exporter": "python",
   "pygments_lexer": "ipython3",
   "version": "3.9.13"
  }
 },
 "nbformat": 4,
 "nbformat_minor": 5
}
