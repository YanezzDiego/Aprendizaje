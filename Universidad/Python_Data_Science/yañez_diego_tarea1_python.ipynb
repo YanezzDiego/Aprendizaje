{
 "cells": [
  {
   "cell_type": "markdown",
   "id": "e8c7107b",
   "metadata": {},
   "source": [
    "<img src=\"https://yt3.ggpht.com/ytc/AMLnZu9-mir6rr1VXNH3agHVHdY_FzvnWOMfNE6-cBn5-w=s900-c-k-c0x00ffffff-no-rj\" style=\"width:100px;\" align=\"right\">\n",
    "\n",
    "Curso \"Data Analytics\"<br>\n",
    "Universidad del Bío-Bío<br>\n",
    "Facultad de Ingeniería\n",
    "\n",
    "# Tarea 1 - Python\n",
    "\n",
    "**Estudiante**:\n",
    "\n",
    "Dados los siguientes enunciados, cree funciones para cada uno de ellos y compruebe que este funciona a través de una ejecución de ejemplo:\n",
    "\n",
    "1. Dado un **diametro** escribir una función que calcule el área de un círculo:"
   ]
  },
  {
   "cell_type": "code",
   "execution_count": 16,
   "id": "40551e6e",
   "metadata": {},
   "outputs": [
    {
     "name": "stdout",
     "output_type": "stream",
     "text": [
      "Ingrese el diametro del circulo: 4\n"
     ]
    }
   ],
   "source": [
    "import numpy as np\n",
    "diametro=int(input(\"Ingrese el diametro del circulo: \"))\n",
    "\n",
    "def area_circulo(diametro):\n",
    "    r = diametro/2\n",
    "    area= np.pi*r*r\n",
    "    return area\n",
    "\n"
   ]
  },
  {
   "cell_type": "code",
   "execution_count": 17,
   "id": "2c822281",
   "metadata": {},
   "outputs": [
    {
     "data": {
      "text/plain": [
       "12.566370614359172"
      ]
     },
     "execution_count": 17,
     "metadata": {},
     "output_type": "execute_result"
    }
   ],
   "source": [
    "area_circulo(diametro)"
   ]
  },
  {
   "cell_type": "markdown",
   "id": "22251e58",
   "metadata": {},
   "source": [
    "2. Dada una altura, escribir una función que calcule el perimetro y área de un cilindro **utilizando la función anterior**."
   ]
  },
  {
   "cell_type": "code",
   "execution_count": 18,
   "id": "aaf3dbe2",
   "metadata": {},
   "outputs": [],
   "source": [
    "#Perimetro 2*pi*r+h\n",
    "def perimetroCilindro(altura):\n",
    "    perimetro= 2*(area_circulo(diametro)/(diametro/2))+altura\n",
    "    return(perimetro)\n",
    "    \n",
    "#Area 2*pi*r*(h+r)    \n",
    "def areaCilindro(altura):\n",
    "    area_cilindro= 2*(area_circulo(diametro)/(diametro/2))*altura + 2*area_circulo(diametro)\n",
    "    return area_cilindro\n"
   ]
  },
  {
   "cell_type": "code",
   "execution_count": 19,
   "id": "8194d21f",
   "metadata": {},
   "outputs": [
    {
     "data": {
      "text/plain": [
       "16.566370614359172"
      ]
     },
     "execution_count": 19,
     "metadata": {},
     "output_type": "execute_result"
    }
   ],
   "source": [
    "perimetroCilindro(4)"
   ]
  },
  {
   "cell_type": "code",
   "execution_count": 9,
   "id": "fa29e31d",
   "metadata": {},
   "outputs": [
    {
     "data": {
      "text/plain": [
       "117.80972450961724"
      ]
     },
     "execution_count": 9,
     "metadata": {},
     "output_type": "execute_result"
    }
   ],
   "source": [
    "areaCilindro(5)"
   ]
  },
  {
   "cell_type": "markdown",
   "id": "7fa53874",
   "metadata": {},
   "source": [
    "3. Escribir una función que solicite al usuario que ingrese su nombre para luego mostrar en pantalla el texto \n",
    "\n",
    "> Bienvenido al juego, [nombre]"
   ]
  },
  {
   "cell_type": "code",
   "execution_count": 3,
   "id": "75523fb0",
   "metadata": {},
   "outputs": [],
   "source": [
    "def juego():\n",
    "    nombre=input(\"Ingrese su nombre \")\n",
    "    print(\"Bienvenido al juego, \", nombre)\n",
    "    "
   ]
  },
  {
   "cell_type": "code",
   "execution_count": 4,
   "id": "debeaa90",
   "metadata": {},
   "outputs": [
    {
     "name": "stdout",
     "output_type": "stream",
     "text": [
      "Ingrese su nombre Diego\n",
      "Bienvenido al juego,  Diego\n"
     ]
    }
   ],
   "source": [
    "juego()"
   ]
  },
  {
   "cell_type": "markdown",
   "id": "227cacc4",
   "metadata": {},
   "source": [
    "4. Escribir una función que dada temperatura en celsius, devuelva por pantalla su equivalencia en Kelvin, Fahrenheit, Rankine, Reaumur. Cada equivalencia debe estar en un mensaje por pantalla en una nueva línea."
   ]
  },
  {
   "cell_type": "code",
   "execution_count": 20,
   "id": "9123e5ea",
   "metadata": {},
   "outputs": [],
   "source": [
    "def equivalencia():\n",
    "    c=int(input(\"Entregue la temperatura en grados Celsius \"))\n",
    "    k=273,15+c\n",
    "    f=c*1,8+32\n",
    "    ra=9/5*c+491,67\n",
    "    re=4/5*c\n",
    "    print(\"La equivalencia de \",c,\"grados Celsius es:\",\"\\n\", \"Kelvin \",k, \"\\n\",\"Fahrenheit \",f, \"\\n\",\"Rankine \",ra, \"\\n\",\"Reamur \",re)"
   ]
  },
  {
   "cell_type": "code",
   "execution_count": 21,
   "id": "e6ff76b3",
   "metadata": {},
   "outputs": [
    {
     "name": "stdout",
     "output_type": "stream",
     "text": [
      "Entregue la temperatura en grados Celsius 0\n",
      "La equivalencia de  0 grados Celsius es: \n",
      " Kelvin  (273, 15) \n",
      " Fahrenheit  (0, 40) \n",
      " Rankine  (491.0, 67) \n",
      " Reamur  0.0\n"
     ]
    }
   ],
   "source": [
    "equivalencia()"
   ]
  },
  {
   "cell_type": "code",
   "execution_count": null,
   "id": "d19242eb",
   "metadata": {},
   "outputs": [],
   "source": []
  }
 ],
 "metadata": {
  "kernelspec": {
   "display_name": "Python 3 (ipykernel)",
   "language": "python",
   "name": "python3"
  },
  "language_info": {
   "codemirror_mode": {
    "name": "ipython",
    "version": 3
   },
   "file_extension": ".py",
   "mimetype": "text/x-python",
   "name": "python",
   "nbconvert_exporter": "python",
   "pygments_lexer": "ipython3",
   "version": "3.9.13"
  }
 },
 "nbformat": 4,
 "nbformat_minor": 5
}
