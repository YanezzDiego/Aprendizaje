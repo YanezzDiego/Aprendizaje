{
 "cells": [
  {
   "cell_type": "markdown",
   "id": "628650f1",
   "metadata": {},
   "source": [
    "# Clase 2 - Python\n",
    "\n",
    "## ¿Qué es una lista?\n",
    "\n",
    "Se puede entender una lista como un conjunto de datos/elementos, por tanto es literalmente una lista como la\n",
    "que haríamos en el supermercado:\n",
    "\n",
    "Lista Supermercado\n",
    "\n",
    "- Leche\n",
    "- Pan\n",
    "- Cereal\n",
    "- Huevos\n",
    "\n",
    "**¿Cuál sería la sintaxis para escribir esta lista en Python?**\n",
    "\n",
    "La sintaxis para definir una lista en python es muy sencilla, lo más importante es el uso de los corchetes \" [ , ] \".\n",
    "\n",
    "nombre_lista = [elementos] \n",
    "\n",
    "Una lista puede contener cero elementos, para esto se puede definir una lista vacía\n",
    "\n",
    "nombre_lista = [ ]\n",
    "Cuando ponemos varios elementos, se van separando con comas\n",
    "\n",
    "nombre_lista = [elemento0,elemento1,elemento2,...,elemento_n]\n",
    "\n",
    "En la última lista, pusimos desde el elemento cero, ¿Por qué? pues por que en python (y la mayoría de los\n",
    "lenguajes, no todos) los elementos se enumeran desde el cero.Muy importante tenerlo en cuenta."
   ]
  },
  {
   "cell_type": "code",
   "execution_count": 1,
   "id": "f886d1de",
   "metadata": {},
   "outputs": [
    {
     "data": {
      "text/plain": [
       "list"
      ]
     },
     "execution_count": 1,
     "metadata": {},
     "output_type": "execute_result"
    }
   ],
   "source": [
    "# Lista vacía\n",
    "lista_vacia=[]\n",
    "type(lista_vacia)"
   ]
  },
  {
   "cell_type": "code",
   "execution_count": 2,
   "id": "1fca2419",
   "metadata": {},
   "outputs": [
    {
     "name": "stdout",
     "output_type": "stream",
     "text": [
      "['leche', 'pan', 'cereal', 'huevos']\n"
     ]
    }
   ],
   "source": [
    "# Lista supermercado\n",
    "\n",
    "lista_super=[\"leche\",\"pan\",\"cereal\",\"huevos\"]\n",
    "print(lista_super)"
   ]
  },
  {
   "cell_type": "markdown",
   "id": "35026ca6",
   "metadata": {},
   "source": [
    "Ahora, no solo podemos asignar textos (string) a una lista, pueden ser también variables numéricas,\n",
    "supongamos que enlistamos nuestras notas en una asignatura:\n",
    "\n",
    "- 7.0\n",
    "- 4.2\n",
    "- 6.9\n",
    "- 3.1"
   ]
  },
  {
   "cell_type": "code",
   "execution_count": 3,
   "id": "888a5b14",
   "metadata": {},
   "outputs": [
    {
     "name": "stdout",
     "output_type": "stream",
     "text": [
      "[7.0, 4.2, 6.9, 3.1]\n"
     ]
    }
   ],
   "source": [
    "# Lista Notas\n",
    "\n",
    "lista_notas=[7.0,4.2,6.9,3.1]\n",
    "print(lista_notas)"
   ]
  },
  {
   "cell_type": "markdown",
   "id": "7f5befc6",
   "metadata": {},
   "source": [
    "### ¿Qué tienen de especial las listas de python?\n",
    "\n",
    "Comparandolo con otros lenguajes, las listas de python son mucho más flexibles, algunos motivos son:\n",
    "\n",
    "- Las listas en python tienen un largo dinámico, esto significa que no necesitamos avisar cuantos elementos tendrá esta lista (en otros lenguajes esto es obligatorio).\n",
    "- Se pueden incluir varios tipos de variables en una misma lista.\n",
    "- Se pueden agregar y eliminar elementos de la lista.\n",
    "- Para quienes vienen de otro lenguaje, una lista es algo similar a un vector."
   ]
  },
  {
   "cell_type": "code",
   "execution_count": 4,
   "id": "1361539a",
   "metadata": {
    "scrolled": true
   },
   "outputs": [
    {
     "name": "stdout",
     "output_type": "stream",
     "text": [
      "['leche', 7.0, 'pan', 4.2, 'cereal', 6.9, 'huevos', 3.1]\n"
     ]
    }
   ],
   "source": [
    "# Lista mixta\n",
    "\n",
    "lista_mixta=[\"leche\",7.0,\"pan\",4.2,\"cereal\",6.9,\"huevos\",3.1]\n",
    "print(lista_mixta)"
   ]
  },
  {
   "cell_type": "markdown",
   "id": "0d6df7f9",
   "metadata": {},
   "source": [
    "Además se puede tener listas de listas"
   ]
  },
  {
   "cell_type": "code",
   "execution_count": 5,
   "id": "fb918a3b",
   "metadata": {},
   "outputs": [
    {
     "name": "stdout",
     "output_type": "stream",
     "text": [
      "[['leche', 'pan', 'cereal', 'huevos'], [7.0, 4.2, 6.9, 3.1], ['leche', 7.0, 'pan', 4.2, 'cereal', 6.9, 'huevos', 3.1]]\n"
     ]
    }
   ],
   "source": [
    "listas=[lista_super,lista_notas,lista_mixta]\n",
    "\n",
    "print(listas)"
   ]
  },
  {
   "cell_type": "markdown",
   "id": "20220377",
   "metadata": {},
   "source": [
    "## Interacción con las listas"
   ]
  },
  {
   "cell_type": "code",
   "execution_count": 7,
   "id": "7d59805f",
   "metadata": {},
   "outputs": [
    {
     "name": "stdout",
     "output_type": "stream",
     "text": [
      "cereal\n",
      "['leche', 'pan', 'cereal']\n"
     ]
    }
   ],
   "source": [
    "# Mostrar el valor \"cereal\"\n",
    "print(lista_super[2])\n",
    "# Mostrar los primeros 3 valores de la lista\n",
    "print(lista_super[0:3])\n",
    "# De hecho, no solo los puedo mostrar, también los puedo guardar en una variable\n",
    "valor_cereal=lista_super[2]\n",
    "valor_intervalo=lista_super[0:3]\n",
    "#print(\"Valores guardados:\",valor_cereal,\"y\",valor_intervalo)"
   ]
  },
  {
   "cell_type": "markdown",
   "id": "06d64376",
   "metadata": {},
   "source": [
    "### Extras para tener en consideración\n",
    "¿Qué pasa si pongo un número negativo en la posición del elemento que quiero buscar (Ej. lista[-2]).\n",
    "Aunque suene extraño, funciona; ya que lo que python hace es ubicarse al final de la lista y retroceder la\n",
    "cantidad de espacios que le digamos.\n",
    "\n",
    "¿Qué ocurre si doy la instrucción lista_super[-3]? (Respondan sin poner aún el código)\n",
    "\n",
    "¿Qué pasa si llamo a un elemento que no existe (Ej. lista[10]) Al no existir dicho elemento el programa dará\n",
    "un error."
   ]
  },
  {
   "cell_type": "code",
   "execution_count": 8,
   "id": "ea08617d",
   "metadata": {},
   "outputs": [
    {
     "name": "stdout",
     "output_type": "stream",
     "text": [
      "pan\n"
     ]
    },
    {
     "ename": "IndexError",
     "evalue": "list index out of range",
     "output_type": "error",
     "traceback": [
      "\u001b[1;31m---------------------------------------------------------------------------\u001b[0m",
      "\u001b[1;31mIndexError\u001b[0m                                Traceback (most recent call last)",
      "\u001b[1;32m~\\AppData\\Local\\Temp\\ipykernel_10064\\2522021746.py\u001b[0m in \u001b[0;36m<module>\u001b[1;34m\u001b[0m\n\u001b[0;32m      3\u001b[0m \u001b[0mprint\u001b[0m\u001b[1;33m(\u001b[0m\u001b[0mlista_super\u001b[0m\u001b[1;33m[\u001b[0m\u001b[1;33m-\u001b[0m\u001b[1;36m3\u001b[0m\u001b[1;33m]\u001b[0m\u001b[1;33m)\u001b[0m\u001b[1;33m\u001b[0m\u001b[1;33m\u001b[0m\u001b[0m\n\u001b[0;32m      4\u001b[0m \u001b[1;31m# Llamar a un elemento que no existe\u001b[0m\u001b[1;33m\u001b[0m\u001b[1;33m\u001b[0m\u001b[0m\n\u001b[1;32m----> 5\u001b[1;33m \u001b[0mprint\u001b[0m\u001b[1;33m(\u001b[0m\u001b[0mlista_super\u001b[0m\u001b[1;33m[\u001b[0m\u001b[1;36m10\u001b[0m\u001b[1;33m]\u001b[0m\u001b[1;33m)\u001b[0m \u001b[1;31m#list index out of range\u001b[0m\u001b[1;33m\u001b[0m\u001b[1;33m\u001b[0m\u001b[0m\n\u001b[0m\u001b[0;32m      6\u001b[0m \u001b[1;31m# Llamar a un elemento negativo que se sale de rango\u001b[0m\u001b[1;33m\u001b[0m\u001b[1;33m\u001b[0m\u001b[0m\n\u001b[0;32m      7\u001b[0m \u001b[0mprint\u001b[0m\u001b[1;33m(\u001b[0m\u001b[0mlista_super\u001b[0m\u001b[1;33m[\u001b[0m\u001b[1;33m-\u001b[0m\u001b[1;36m32\u001b[0m\u001b[1;33m]\u001b[0m\u001b[1;33m)\u001b[0m\u001b[1;33m\u001b[0m\u001b[1;33m\u001b[0m\u001b[0m\n",
      "\u001b[1;31mIndexError\u001b[0m: list index out of range"
     ]
    }
   ],
   "source": [
    "# Llamar elementos con una posición negativa\n",
    "\n",
    "print(lista_super[-3])\n",
    "# Llamar a un elemento que no existe\n",
    "print(lista_super[10]) #list index out of range\n",
    "# Llamar a un elemento negativo que se sale de rango\n",
    "print(lista_super[-32])"
   ]
  },
  {
   "cell_type": "markdown",
   "id": "ae1b80b8",
   "metadata": {},
   "source": [
    "Se va a posicionar en -2 (cereal) y va a mostrar hasta el valor (3-1) = 2 (cereal) (1)\n",
    "\n",
    "Se va a posicionar en -2 (cereal) y va a mostrar hasta el valor (4-1) = 3 (huevos) (2)"
   ]
  },
  {
   "cell_type": "code",
   "execution_count": 9,
   "id": "0ca2a428",
   "metadata": {},
   "outputs": [
    {
     "name": "stdout",
     "output_type": "stream",
     "text": [
      "['cereal']\n",
      "['cereal', 'huevos']\n"
     ]
    }
   ],
   "source": [
    "# 1\n",
    "print(lista_super[-2:3])\n",
    "# 2\n",
    "print(lista_super[-2:4])"
   ]
  },
  {
   "cell_type": "markdown",
   "id": "b2e52f31",
   "metadata": {},
   "source": [
    "### Agregar elementos una lista\n",
    "\n",
    "La forma en la que podemos agregar nuevos valores a una lista ya existente es con el comando append(), al\n",
    "aplicar este método el elemento será agregado al final de la lista."
   ]
  },
  {
   "cell_type": "code",
   "execution_count": 11,
   "id": "c4840580",
   "metadata": {},
   "outputs": [
    {
     "name": "stdout",
     "output_type": "stream",
     "text": [
      "['hola', 'hola']\n"
     ]
    }
   ],
   "source": [
    "# Agregar elementos a una lista\n",
    "lista_vacia.append(\"hola\")\n",
    "\n",
    "print(lista_vacia)"
   ]
  },
  {
   "cell_type": "markdown",
   "id": "3da56a25",
   "metadata": {},
   "source": [
    "### Eliminar elementos de una lista\n",
    "\n",
    "Para eliminar un elemento de la lista, es necesario aplicar nuestros conocimientos para llamar a elementos\n",
    "específicos de la lista.\n",
    "\n",
    "La palabra reservada que se usa para esto es la palabra \"del\", luego se hace alusión al elemento de la lista que\n",
    "se quiere eliminar"
   ]
  },
  {
   "cell_type": "code",
   "execution_count": 12,
   "id": "ea4a2189",
   "metadata": {},
   "outputs": [],
   "source": [
    "lista_notas=[7.0,4.2,6.9,3.1]\n",
    "\n",
    "del lista_notas[0]\n"
   ]
  },
  {
   "cell_type": "code",
   "execution_count": 13,
   "id": "bb60e299",
   "metadata": {},
   "outputs": [
    {
     "data": {
      "text/plain": [
       "[4.2, 6.9, 3.1]"
      ]
     },
     "execution_count": 13,
     "metadata": {},
     "output_type": "execute_result"
    }
   ],
   "source": [
    "lista_notas"
   ]
  },
  {
   "cell_type": "code",
   "execution_count": 14,
   "id": "86f83097",
   "metadata": {},
   "outputs": [
    {
     "data": {
      "text/plain": [
       "[6.9, 3.1]"
      ]
     },
     "execution_count": 14,
     "metadata": {},
     "output_type": "execute_result"
    }
   ],
   "source": [
    "lista_notas.remove(4.2)\n",
    "\n",
    "lista_notas"
   ]
  },
  {
   "cell_type": "code",
   "execution_count": 15,
   "id": "7e4b60ce",
   "metadata": {},
   "outputs": [
    {
     "data": {
      "text/plain": [
       "[6.9]"
      ]
     },
     "execution_count": 15,
     "metadata": {},
     "output_type": "execute_result"
    }
   ],
   "source": [
    "lista_notas.pop()\n",
    "\n",
    "lista_notas"
   ]
  },
  {
   "cell_type": "code",
   "execution_count": 16,
   "id": "fd3197ac",
   "metadata": {},
   "outputs": [
    {
     "data": {
      "text/plain": [
       "[]"
      ]
     },
     "execution_count": 16,
     "metadata": {},
     "output_type": "execute_result"
    }
   ],
   "source": [
    "lista_notas.pop(0)\n",
    "\n",
    "lista_notas"
   ]
  },
  {
   "cell_type": "markdown",
   "id": "b5e4cd3a",
   "metadata": {},
   "source": [
    "### Otros Métodos para las listas\n",
    "\n",
    "Además de las acciones que se pueden realizar con las listas, existen varias más. Algunas de ellas son:\n",
    "\n",
    "- count(x) Recibe un elemento x como argumento, y cuenta la cantidad de veces que aparece en la lista.\n",
    "- extend(y) Extiende una lista agregando un iterable al final.\n",
    "- index(x) Recibe un elemento como argumento, y devuelve el índice de su primera aparición en la lista.\n",
    "- insert(i,x) Inserta el elemento x en la lista, en el índice i.\n",
    "- reverse() Invierte el orden de los elementos de una lista.\n",
    "- sort() Ordena los elementos de una lista cuando todos los elementos son de un mismo tipo (para que sea posible ordenar)\n",
    "- len() Devuelve la cantidad de elementos de la lista\n",
    "\n",
    "En algunas ocasiones nos podremos encontrar con más de un método que realiza una acción similar. No hay\n",
    "mejor ni peor, todo depende de la necesidad"
   ]
  },
  {
   "cell_type": "code",
   "execution_count": 18,
   "id": "595563f3",
   "metadata": {
    "scrolled": true
   },
   "outputs": [
    {
     "name": "stdout",
     "output_type": "stream",
     "text": [
      "El elemento aparece 3 veces\n",
      "extend 1 valor: [1, 2, 3, 4, 5, 5, 5, 6, 6, 6, 7, 8, 12]\n",
      "extend varios valores: [1, 2, 3, 4, 5, 5, 5, 6, 6, 6, 7, 8, 12, 1, 2, 3]\n",
      "extend rango: [1, 2, 3, 4, 5, 5, 5, 6, 6, 6, 7, 8, 12, 1, 2, 3, 1, 2, 3, 4, 5, 6, 7]\n",
      "La primera aparición del elemento es en la posición: 4\n",
      "insert: [1, 'hola', 2, 3, 4, 5, 5, 5, 6, 6, 6, 7, 8, 12, 1, 2, 3, 1, 2, 3, 4, 5, 6, 7]\n",
      "pop: [1, 'hola', 2, 3, 4, 5, 5, 5, 6, 6, 6, 7, 8, 12, 1, 2, 3, 1, 2, 3, 4, 5, 6]\n",
      "remove: [1, 2, 3, 4, 5, 5, 5, 6, 6, 6, 7, 8, 12, 1, 2, 3, 1, 2, 3, 4, 5, 6]\n",
      "reverse: [6, 5, 4, 3, 2, 1, 3, 2, 1, 12, 8, 7, 6, 6, 6, 5, 5, 5, 4, 3, 2, 1]\n",
      "[1, 1, 1, 2, 2, 2, 3, 3, 3, 4, 4, 5, 5, 5, 5, 6, 6, 6, 6, 7, 8, 12]\n",
      "El largo de la lista es: 22\n"
     ]
    }
   ],
   "source": [
    "lista_metodos = [1,2,3,4,5,5,5,6,6,6,7,8]\n",
    "\n",
    "#count(x)\n",
    "lista_metodos.count(6)\n",
    "print(\"El elemento aparece\",lista_metodos.count(6),\"veces\")\n",
    "\n",
    "#extend()\n",
    "lista_metodos.extend([12])\n",
    "print(\"extend 1 valor:\",lista_metodos)\n",
    "lista_metodos.extend([1,2,3])\n",
    "print(\"extend varios valores:\",lista_metodos)\n",
    "lista_metodos.extend(range(1,8))\n",
    "print(\"extend rango:\",lista_metodos)\n",
    "\n",
    "#index()\n",
    "print(\"La primera aparición del elemento es en la posición:\",lista_metodos.index(5))\n",
    "\n",
    "#insert(i,x)\n",
    "lista_metodos.insert(1,\"hola\")\n",
    "print(\"insert:\",lista_metodos)\n",
    "\n",
    "#pop()\n",
    "lista_metodos.pop()\n",
    "print(\"pop:\",lista_metodos)\n",
    "\n",
    "#remove()\n",
    "lista_metodos.remove(\"hola\")\n",
    "print(\"remove:\",lista_metodos)\n",
    "\n",
    "#reverse()\n",
    "lista_metodos.reverse()\n",
    "print(\"reverse:\",lista_metodos)\n",
    "\n",
    "#sort()\n",
    "lista_metodos.sort()\n",
    "print(lista_metodos)\n",
    "\n",
    "#len()\n",
    "print(\"El largo de la lista es:\",len(lista_metodos))"
   ]
  },
  {
   "cell_type": "markdown",
   "id": "525431c4",
   "metadata": {},
   "source": [
    "## ¿Qué es una Tupla?\n",
    "\n",
    "Una tupla es algo muy similar a una lista y por tanto comparten varias semejanzas y algunas diferencias. La\n",
    "tupla es una estructura de python que permite almacenar varios datos en un mismo valor (igual que en las\n",
    "listas) ,sin embargo, llevan algunas diferencias:\n",
    "\n",
    "- Al crear una tupla su forma se vuelve inmutable. O sea, no se puede cambiar.\n",
    "- De lo anterior que se desprende que no es posible interactuar con las tuplas de la misma manera que con las listas (añadir elementos, borrar elementos, etc)\n",
    "- SI se puede acceder a algún valor particular de la tupla al igual que con las listas, y de la misma manera.\n",
    "\n",
    "Entonces, ¿Qué tienen de interesante las tuplas si existen las listas?\n",
    "\n",
    "Volviendo a la comparación entre tuplas y listas, las listas tienen un largo dinámico lo cuales muy versatil pero\n",
    "es más pesado para el software. En cambio las tuplas tienen un tamaño fijo y una estructura más estática que\n",
    "permite llevar procesos más rápidos y livianos. Por tanto en ciertas condiciones adquiere más sentido usar\n",
    "tuplas y no listas. No obstante, en proyectos de menor escala, la diferencia no es tanta.\n",
    "\n",
    "#### ¿Cuál es la sintaxis de una Tupla?\n",
    "\n",
    "$$Nombre Tupla=(valor0,valor1,valor2,...,valor_n)$$\n",
    "\n",
    "Notar que es prácticamente la misma notación de una lista, sólo que en vez de usar corchetes se usa\n",
    "parentesis."
   ]
  },
  {
   "cell_type": "code",
   "execution_count": 19,
   "id": "a3b680dd",
   "metadata": {},
   "outputs": [
    {
     "data": {
      "text/plain": [
       "tuple"
      ]
     },
     "execution_count": 19,
     "metadata": {},
     "output_type": "execute_result"
    }
   ],
   "source": [
    "# Creando una tupla\n",
    "primera_tupla = (1,2,3,4,5)\n",
    "type(primera_tupla)"
   ]
  },
  {
   "cell_type": "code",
   "execution_count": 20,
   "id": "b947f994",
   "metadata": {},
   "outputs": [
    {
     "name": "stdout",
     "output_type": "stream",
     "text": [
      "(1, 2, 'hola', 3) <class 'tuple'>\n"
     ]
    }
   ],
   "source": [
    "segunda_tupla = (1,2,\"hola\",3)\n",
    "\n",
    "print(segunda_tupla,type(segunda_tupla))"
   ]
  },
  {
   "cell_type": "code",
   "execution_count": 21,
   "id": "cf8d1a1e",
   "metadata": {},
   "outputs": [
    {
     "data": {
      "text/plain": [
       "int"
      ]
     },
     "execution_count": 21,
     "metadata": {},
     "output_type": "execute_result"
    }
   ],
   "source": [
    "#Qué pasa si creamos una tupla de un solo valor\n",
    "\n",
    "tercera_tupla = (3)\n",
    "type(tercera_tupla)"
   ]
  },
  {
   "cell_type": "code",
   "execution_count": 22,
   "id": "0808b1df",
   "metadata": {},
   "outputs": [
    {
     "name": "stdout",
     "output_type": "stream",
     "text": [
      "5\n"
     ]
    }
   ],
   "source": [
    "#Consultar por algún valor específico de la tupla mediante la posición\n",
    "print(primera_tupla[4])"
   ]
  },
  {
   "cell_type": "code",
   "execution_count": 23,
   "id": "90444e14",
   "metadata": {},
   "outputs": [
    {
     "name": "stdout",
     "output_type": "stream",
     "text": [
      "(3, 4, 5)\n"
     ]
    }
   ],
   "source": [
    "# Consultar un rango de valores dentro de la tupla\n",
    "\n",
    "print(primera_tupla[2:5])"
   ]
  },
  {
   "cell_type": "code",
   "execution_count": 24,
   "id": "582d4bbb",
   "metadata": {},
   "outputs": [
    {
     "name": "stdout",
     "output_type": "stream",
     "text": [
      "El valor Nicaragua aparece 1 veces en la tupla.\n"
     ]
    }
   ],
   "source": [
    "# Función Count\n",
    "\n",
    "tupla_ejemplo = (1,3,5,2,3,2,2,6,\"Nicaragua\",5,1.2,\"Brasil\")\n",
    "n= \"Nicaragua\"\n",
    "m = tupla_ejemplo.count(n)\n",
    "print(\"El valor\",n,\"aparece\",m,\"veces en la tupla.\")"
   ]
  },
  {
   "cell_type": "code",
   "execution_count": 26,
   "id": "a6f649e6",
   "metadata": {},
   "outputs": [
    {
     "name": "stdout",
     "output_type": "stream",
     "text": [
      "True\n"
     ]
    }
   ],
   "source": [
    "# Comando in\n",
    "\n",
    "# Nos entrega un booleano que nos dice si el valor consultado aparece o no en la tupla\n",
    "print(\"Nicaragua\" in tupla_ejemplo)"
   ]
  },
  {
   "cell_type": "markdown",
   "id": "a6f36de3",
   "metadata": {},
   "source": [
    "### Asignar los elementos de una tupla a variables unitarias\n",
    "Supongamos que tenemos la siguiente tupla"
   ]
  },
  {
   "cell_type": "code",
   "execution_count": 27,
   "id": "0c69c70f",
   "metadata": {},
   "outputs": [
    {
     "name": "stdout",
     "output_type": "stream",
     "text": [
      "1\n"
     ]
    }
   ],
   "source": [
    "tupla = (1,2,3)\n",
    "\n",
    "valor1,valor2,valor4 = tupla\n",
    "\n",
    "print(valor1)"
   ]
  },
  {
   "cell_type": "code",
   "execution_count": 28,
   "id": "96e13e2f",
   "metadata": {
    "scrolled": true
   },
   "outputs": [
    {
     "ename": "TypeError",
     "evalue": "'tuple' object does not support item assignment",
     "output_type": "error",
     "traceback": [
      "\u001b[1;31m---------------------------------------------------------------------------\u001b[0m",
      "\u001b[1;31mTypeError\u001b[0m                                 Traceback (most recent call last)",
      "\u001b[1;32m~\\AppData\\Local\\Temp\\ipykernel_10064\\38053613.py\u001b[0m in \u001b[0;36m<module>\u001b[1;34m\u001b[0m\n\u001b[1;32m----> 1\u001b[1;33m \u001b[0mtupla\u001b[0m\u001b[1;33m[\u001b[0m\u001b[1;36m1\u001b[0m\u001b[1;33m]\u001b[0m \u001b[1;33m=\u001b[0m \u001b[1;36m34\u001b[0m\u001b[1;33m\u001b[0m\u001b[1;33m\u001b[0m\u001b[0m\n\u001b[0m",
      "\u001b[1;31mTypeError\u001b[0m: 'tuple' object does not support item assignment"
     ]
    }
   ],
   "source": [
    "tupla[1] = 34"
   ]
  },
  {
   "cell_type": "markdown",
   "id": "cf6c9a7d",
   "metadata": {},
   "source": [
    "## Diccionario\n",
    "\n",
    "#### ¿Qué es un diccionario?\n",
    "\n",
    "Un diccionario es otra estructura de python, la cual funciona de manera similar a diccionario. ¿Qué hacemos en\n",
    "un diccionario, buscamos un valor clave (alguna palabra) para encontrar información de relativa a esa palabra.\n",
    "\n",
    "Por tanto, el diccionario será la unión de dos cosas, una clave y el valor que se almacenará en esa clave. Dicho\n",
    "valor puede ser algún número, texto o incluso listas/tuplas.\n",
    "\n",
    "#### ¿Cuál es la sintaxis de un diccionario?\n",
    "\n",
    "Basicamente al definir un diccionario vamos a necesitar de la clave que queramos que tenga y del valor que\n",
    "tenga esa clave.\n",
    "\n",
    "$$nombre Diccionario = \\{clave_1 : valor_1, clave_2 : valor_2, ... , clave_n : valor_n\\}$$"
   ]
  },
  {
   "cell_type": "code",
   "execution_count": 30,
   "id": "4deee4cc",
   "metadata": {},
   "outputs": [
    {
     "data": {
      "text/plain": [
       "dict"
      ]
     },
     "execution_count": 30,
     "metadata": {},
     "output_type": "execute_result"
    }
   ],
   "source": [
    "# Creando un diccionario\n",
    "\n",
    "primer_dict = {\"nombre\":\"Maximiliano\",\"Sangre\":\"O+\",\"Fecha\":\"2022-09-12\"}\n",
    "type(primer_dict)"
   ]
  },
  {
   "cell_type": "code",
   "execution_count": 31,
   "id": "607e87a4",
   "metadata": {},
   "outputs": [
    {
     "name": "stdout",
     "output_type": "stream",
     "text": [
      "Maximiliano\n"
     ]
    }
   ],
   "source": [
    "# Consultar valores del diccionario a través de la clave\n",
    "\n",
    "print(primer_dict[\"nombre\"])"
   ]
  },
  {
   "cell_type": "markdown",
   "id": "be767726",
   "metadata": {},
   "source": [
    "#### ¿Podemos agregar más definiciones al diccionario?\n",
    "\n",
    "Si, debemos crearla de forma similar a cuando consultamos un valor."
   ]
  },
  {
   "cell_type": "code",
   "execution_count": 32,
   "id": "e01c74af",
   "metadata": {},
   "outputs": [
    {
     "name": "stdout",
     "output_type": "stream",
     "text": [
      "{'nombre': 'Maximiliano', 'Sangre': 'O+', 'Fecha': '2022-09-12', 'region': 'bio bio'}\n"
     ]
    }
   ],
   "source": [
    "# Agregar valor al diccionario\n",
    "primer_dict[\"region\"]=\"bio bio\"\n",
    "print(primer_dict)"
   ]
  },
  {
   "cell_type": "markdown",
   "id": "c5fbc0be",
   "metadata": {},
   "source": [
    "#### ¿Podemos modificar una definición del diccionario?\n",
    "\n",
    "Si, basta con sobre escribirla."
   ]
  },
  {
   "cell_type": "code",
   "execution_count": 33,
   "id": "540c6810",
   "metadata": {},
   "outputs": [
    {
     "name": "stdout",
     "output_type": "stream",
     "text": [
      "{'nombre': 'Pedrito', 'Sangre': 'O+', 'Fecha': '2022-09-12', 'region': 'bio bio'}\n"
     ]
    }
   ],
   "source": [
    "# Modificar (sobreescribir) valor de un diccionario\n",
    "\n",
    "primer_dict[\"nombre\"]=\"Pedrito\"\n",
    "print(primer_dict)"
   ]
  },
  {
   "cell_type": "code",
   "execution_count": 9,
   "id": "82f98f37",
   "metadata": {},
   "outputs": [
    {
     "name": "stdout",
     "output_type": "stream",
     "text": [
      "[2, 3, 0, 7, 23, 67, 2, 45, 2, 2, 2, 5, 2, 7, 0, 0, 0]\n"
     ]
    }
   ],
   "source": [
    "lista_1= [2,3,-6,7,23,67,22,45,0,12,34,5,6,7,-9,-1,-2]\n",
    "lista_2=[]\n",
    "\n",
    "\n",
    "for i in lista_1:\n",
    "    if i < 0:\n",
    "        lista_2.append(0)\n",
    "    elif i%2==0:\n",
    "        lista_2.append(2)\n",
    "    else:\n",
    "        lista_2.append(i)\n",
    "   \n",
    "print(lista_2)\n"
   ]
  },
  {
   "cell_type": "code",
   "execution_count": null,
   "id": "1ba18512",
   "metadata": {},
   "outputs": [],
   "source": []
  }
 ],
 "metadata": {
  "kernelspec": {
   "display_name": "Python 3 (ipykernel)",
   "language": "python",
   "name": "python3"
  },
  "language_info": {
   "codemirror_mode": {
    "name": "ipython",
    "version": 3
   },
   "file_extension": ".py",
   "mimetype": "text/x-python",
   "name": "python",
   "nbconvert_exporter": "python",
   "pygments_lexer": "ipython3",
   "version": "3.9.13"
  }
 },
 "nbformat": 4,
 "nbformat_minor": 5
}
