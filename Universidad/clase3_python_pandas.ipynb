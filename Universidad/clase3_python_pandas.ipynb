{
 "cells": [
  {
   "cell_type": "markdown",
   "id": "e54481d6",
   "metadata": {},
   "source": [
    "# Clase 3 - Python\n",
    "\n",
    "## Ciclo While"
   ]
  },
  {
   "cell_type": "code",
   "execution_count": 1,
   "id": "f2967962",
   "metadata": {
    "scrolled": true
   },
   "outputs": [
    {
     "name": "stdout",
     "output_type": "stream",
     "text": [
      "1\n",
      "2\n",
      "3\n",
      "4\n",
      "5\n"
     ]
    }
   ],
   "source": [
    "i = 1\n",
    "while i < 6:\n",
    "  print(i)\n",
    "  i += 1"
   ]
  },
  {
   "cell_type": "markdown",
   "id": "7896467e",
   "metadata": {},
   "source": [
    "## Ejercicios\n",
    "\n",
    "1. Crear un programa que permita al usuario ingresar los montos de las compras de un cliente (se desconoce la cantidad de datos que cargará, la cual puede cambiar en cada ejecución), cortando el ingreso de datos cuando el usuario ingrese el monto 0. Si ingresa un monto negativo, no se debe procesar y se debe pedir que ingrese un nuevo monto. Al finalizar, informar el total a pagar teniendo que cuenta que, si las ventas superan el total de \\$1000, se le debe aplicar un 10\\% de descuento."
   ]
  },
  {
   "cell_type": "code",
   "execution_count": null,
   "id": "1c7da9e2",
   "metadata": {},
   "outputs": [],
   "source": []
  },
  {
   "cell_type": "markdown",
   "id": "cf736efe",
   "metadata": {},
   "source": [
    "2. Use un bucle para mostrar elementos de una lista dada que estén presentes en posiciones pares"
   ]
  },
  {
   "cell_type": "code",
   "execution_count": null,
   "id": "67161c3a",
   "metadata": {},
   "outputs": [],
   "source": [
    "lista = [435,765,23,645,876,234,6,7867,232,3546,5232,334,65,8,56,345,7568,568,678,32,564]"
   ]
  },
  {
   "cell_type": "markdown",
   "id": "614b92f2",
   "metadata": {},
   "source": [
    "## Librerías para Data Analytics pandas\n",
    "\n",
    "### Numpy\n",
    "\n",
    "Documentación: [Click Aquí](https://numpy.org/doc/1.24/)\n",
    "\n",
    "NumPy es una librería de Python especializada en el cálculo numérico y el análisis de datos, especialmente para un gran volumen de datos.\n",
    "\n",
    "Incorpora una nueva clase de objetos llamados arrays que permite representar colecciones de datos de un mismo tipo en varias dimensiones, y funciones muy eficientes para su manipulación.\n",
    "\n",
    "La ventaja de Numpy frente a las listas predefinidas en Python es que el procesamiento de los arrays se realiza mucho más rápido (hasta 50 veces más) que las listas, lo cual la hace ideal para el procesamiento de vectores y matrices de grandes dimensiones.\n",
    "\n",
    "![numpy](https://aprendeconalf.es/docencia/python/manual/img/numpy-logo.png)\n",
    "\n",
    "![numpy](https://aprendeconalf.es/docencia/python/manual/img/arrays.png)\n",
    "\n",
    "\n",
    "#### Importemos la librería"
   ]
  },
  {
   "cell_type": "code",
   "execution_count": 15,
   "id": "b4403a13",
   "metadata": {},
   "outputs": [],
   "source": [
    "import numpy as np"
   ]
  },
  {
   "cell_type": "code",
   "execution_count": 16,
   "id": "b013d9b4",
   "metadata": {},
   "outputs": [
    {
     "data": {
      "text/plain": [
       "array([1, 2, 3])"
      ]
     },
     "execution_count": 16,
     "metadata": {},
     "output_type": "execute_result"
    }
   ],
   "source": [
    "np.array([1, 2, 3])"
   ]
  },
  {
   "cell_type": "code",
   "execution_count": 17,
   "id": "5d7c730d",
   "metadata": {},
   "outputs": [
    {
     "data": {
      "text/plain": [
       "array([[1, 2, 3],\n",
       "       [4, 5, 6]])"
      ]
     },
     "execution_count": 17,
     "metadata": {},
     "output_type": "execute_result"
    }
   ],
   "source": [
    "np.array([[1, 2, 3], [4, 5, 6]])"
   ]
  },
  {
   "cell_type": "code",
   "execution_count": 18,
   "id": "3f29823a",
   "metadata": {},
   "outputs": [
    {
     "data": {
      "text/plain": [
       "array([[[0.0e+000, 4.9e-324, 6.9e-323],\n",
       "        [7.4e-323, 7.9e-323, 8.4e-323]]])"
      ]
     },
     "execution_count": 18,
     "metadata": {},
     "output_type": "execute_result"
    }
   ],
   "source": [
    "np.empty((1,2,3))"
   ]
  },
  {
   "cell_type": "code",
   "execution_count": 19,
   "id": "2d314c13",
   "metadata": {
    "scrolled": true
   },
   "outputs": [
    {
     "data": {
      "text/plain": [
       "array([[[0., 0., 0., 0.],\n",
       "        [0., 0., 0., 0.],\n",
       "        [0., 0., 0., 0.]],\n",
       "\n",
       "       [[0., 0., 0., 0.],\n",
       "        [0., 0., 0., 0.],\n",
       "        [0., 0., 0., 0.]]])"
      ]
     },
     "execution_count": 19,
     "metadata": {},
     "output_type": "execute_result"
    }
   ],
   "source": [
    "np.zeros((2,3,4))"
   ]
  },
  {
   "cell_type": "code",
   "execution_count": 20,
   "id": "e5e70f13",
   "metadata": {
    "scrolled": false
   },
   "outputs": [
    {
     "data": {
      "text/plain": [
       "array([[[1., 1., 1., 1., 1., 1.],\n",
       "        [1., 1., 1., 1., 1., 1.],\n",
       "        [1., 1., 1., 1., 1., 1.],\n",
       "        [1., 1., 1., 1., 1., 1.],\n",
       "        [1., 1., 1., 1., 1., 1.]],\n",
       "\n",
       "       [[1., 1., 1., 1., 1., 1.],\n",
       "        [1., 1., 1., 1., 1., 1.],\n",
       "        [1., 1., 1., 1., 1., 1.],\n",
       "        [1., 1., 1., 1., 1., 1.],\n",
       "        [1., 1., 1., 1., 1., 1.]],\n",
       "\n",
       "       [[1., 1., 1., 1., 1., 1.],\n",
       "        [1., 1., 1., 1., 1., 1.],\n",
       "        [1., 1., 1., 1., 1., 1.],\n",
       "        [1., 1., 1., 1., 1., 1.],\n",
       "        [1., 1., 1., 1., 1., 1.]],\n",
       "\n",
       "       [[1., 1., 1., 1., 1., 1.],\n",
       "        [1., 1., 1., 1., 1., 1.],\n",
       "        [1., 1., 1., 1., 1., 1.],\n",
       "        [1., 1., 1., 1., 1., 1.],\n",
       "        [1., 1., 1., 1., 1., 1.]]])"
      ]
     },
     "execution_count": 20,
     "metadata": {},
     "output_type": "execute_result"
    }
   ],
   "source": [
    "np.ones((4,5,6))"
   ]
  },
  {
   "cell_type": "code",
   "execution_count": 21,
   "id": "1fc1695e",
   "metadata": {},
   "outputs": [
    {
     "data": {
      "text/plain": [
       "array([['hola', 'hola', 'hola', 'hola', 'hola']], dtype='<U4')"
      ]
     },
     "execution_count": 21,
     "metadata": {},
     "output_type": "execute_result"
    }
   ],
   "source": [
    "np.full((1,5), 'hola')"
   ]
  },
  {
   "cell_type": "code",
   "execution_count": 24,
   "id": "2547c061",
   "metadata": {},
   "outputs": [
    {
     "data": {
      "text/plain": [
       "array([[1., 0., 0.],\n",
       "       [0., 1., 0.],\n",
       "       [0., 0., 1.]])"
      ]
     },
     "execution_count": 24,
     "metadata": {},
     "output_type": "execute_result"
    }
   ],
   "source": [
    "np.identity((3))"
   ]
  },
  {
   "cell_type": "code",
   "execution_count": 25,
   "id": "245db294",
   "metadata": {},
   "outputs": [
    {
     "data": {
      "text/plain": [
       "array([[0.00720375, 0.0897966 , 0.21215577, 0.92517118, 0.24247672,\n",
       "        0.18197989, 0.83847972, 0.74937152, 0.67120088, 0.847503  ,\n",
       "        0.69222034, 0.06175389, 0.05467178, 0.56864101, 0.82432215,\n",
       "        0.99324202, 0.18388169, 0.52770994, 0.00524738, 0.72173772,\n",
       "        0.71707187, 0.95124449, 0.00572262, 0.35486641, 0.95646286,\n",
       "        0.29281398, 0.92401166, 0.1453185 , 0.11543839, 0.20150228,\n",
       "        0.5004737 , 0.48140122, 0.50837985, 0.18129085],\n",
       "       [0.10394259, 0.62785141, 0.980106  , 0.51093628, 0.53753422,\n",
       "        0.7377213 , 0.28202689, 0.40862938, 0.80386466, 0.2210309 ,\n",
       "        0.20715999, 0.52554965, 0.67053975, 0.99508579, 0.39779904,\n",
       "        0.54683482, 0.08738128, 0.80292226, 0.61862873, 0.11180437,\n",
       "        0.86079756, 0.7920933 , 0.86890265, 0.86214846, 0.92455235,\n",
       "        0.99850659, 0.32744553, 0.96981107, 0.7870046 , 0.0575617 ,\n",
       "        0.114854  , 0.26383364, 0.71555583, 0.20726669]])"
      ]
     },
     "execution_count": 25,
     "metadata": {},
     "output_type": "execute_result"
    }
   ],
   "source": [
    "np.random.random((2,34))"
   ]
  },
  {
   "cell_type": "markdown",
   "id": "3a2d5b9e",
   "metadata": {},
   "source": [
    "#### Atributos de un array\n",
    "\n",
    "1. **a.ndim** : Devuelve el número de dimensiones del array a.\n",
    "\n",
    "2. **a.shape** : Devuelve una tupla con las dimensiones del array a.\n",
    "\n",
    "3. **a.size** : Devuelve el número de elementos del array a.\n",
    "\n",
    "4. **a.dtype**: Devuelve el tipo de datos de los elementos del array a."
   ]
  },
  {
   "cell_type": "code",
   "execution_count": null,
   "id": "86ad30f9",
   "metadata": {},
   "outputs": [],
   "source": [
    "a1 = np.array([1, 2, 3])"
   ]
  },
  {
   "cell_type": "markdown",
   "id": "b3e05c4c",
   "metadata": {},
   "source": [
    "\n",
    "### Pandas\n",
    "\n",
    "Documentación: [Click Aquí](https://pandas.pydata.org/docs/user_guide/index.html)\n",
    "\n",
    "Las principales características de esta librería son:\n",
    "\n",
    "- Define nuevas estructuras de datos basadas en los arrays de la librería NumPy pero con nuevas funcionalidades.\n",
    "- Permite leer y escribir fácilmente ficheros en formato CSV, Excel y bases de datos SQL.\n",
    "- Permite acceder a los datos mediante índices o nombres para filas y columnas.\n",
    "- Ofrece métodos para reordenar, dividir y combinar conjuntos de datos.\n",
    "- Permite trabajar con series temporales.\n",
    "- Realiza todas estas operaciones de manera muy eficiente.\n",
    "\n",
    "- **Series**: array unidimensional etiquetado capaz de almacenar cualquier tipo de dato.\n",
    "- **DataFrame**: estructura bidimensional con columnas que pueden ser también de cualquier tipo. Estas columnas son a su vez Series.\n",
    "\n",
    "![pandas](https://profile.es/wp-content/media/Estructuras-de-datos-en-Pandas-1.png)\n",
    "\n",
    "\n",
    "### Series"
   ]
  },
  {
   "cell_type": "code",
   "execution_count": 26,
   "id": "d7f40342",
   "metadata": {},
   "outputs": [
    {
     "name": "stdout",
     "output_type": "stream",
     "text": [
      "0     Matemáticas\n",
      "1        Historia\n",
      "2        Economía\n",
      "3    Programación\n",
      "4          Inglés\n",
      "dtype: string\n"
     ]
    }
   ],
   "source": [
    "s = pd.Series(['Matemáticas', 'Historia', 'Economía', 'Programación', 'Inglés'], dtype='string')\n",
    "print(s)"
   ]
  },
  {
   "cell_type": "code",
   "execution_count": 27,
   "id": "0c657ef6",
   "metadata": {},
   "outputs": [
    {
     "name": "stdout",
     "output_type": "stream",
     "text": [
      "Matemáticas     6.0\n",
      "Economía        4.5\n",
      "Programación    8.5\n",
      "dtype: float64\n"
     ]
    }
   ],
   "source": [
    "s = pd.Series({'Matemáticas': 6.0,  'Economía': 4.5, 'Programación': 8.5})\n",
    "print(s)"
   ]
  },
  {
   "cell_type": "markdown",
   "id": "f10273de",
   "metadata": {},
   "source": [
    "- s.count()\n",
    "- s.sum()\n",
    "- s.cumsum()\n",
    "- s.value_counts()\n",
    "- s.value_counts(normalize=True)\n",
    "- s.min()\n",
    "- s.max()\n",
    "- s.mean()\n",
    "- s.var()\n",
    "- s.std()\n",
    "- s.describe() "
   ]
  },
  {
   "cell_type": "code",
   "execution_count": null,
   "id": "29bff263",
   "metadata": {},
   "outputs": [],
   "source": [
    "s = pd.Series([1, 1, 1, 1, 2, 2, 2, 3, 3, 4])"
   ]
  },
  {
   "cell_type": "markdown",
   "id": "3fb7fd22",
   "metadata": {},
   "source": [
    "### DataFrame"
   ]
  },
  {
   "cell_type": "code",
   "execution_count": 29,
   "id": "5e020d72",
   "metadata": {},
   "outputs": [],
   "source": [
    "datos = {'nombre':['María', 'Luis', 'Carmen', 'Antonio'],\n",
    "         'edad':[18, 22, 20, 21],\n",
    "         'grado':['Economía', 'Medicina','Arquitectura', 'Economía'],\n",
    "         'correo':['maria@gmail.com', 'luis@yahoo.es', 'carmen@gmail.com', 'antonio@gmail.com']}"
   ]
  },
  {
   "cell_type": "code",
   "execution_count": 30,
   "id": "eceafbb3",
   "metadata": {},
   "outputs": [
    {
     "data": {
      "text/html": [
       "<div>\n",
       "<style scoped>\n",
       "    .dataframe tbody tr th:only-of-type {\n",
       "        vertical-align: middle;\n",
       "    }\n",
       "\n",
       "    .dataframe tbody tr th {\n",
       "        vertical-align: top;\n",
       "    }\n",
       "\n",
       "    .dataframe thead th {\n",
       "        text-align: right;\n",
       "    }\n",
       "</style>\n",
       "<table border=\"1\" class=\"dataframe\">\n",
       "  <thead>\n",
       "    <tr style=\"text-align: right;\">\n",
       "      <th></th>\n",
       "      <th>nombre</th>\n",
       "      <th>edad</th>\n",
       "      <th>grado</th>\n",
       "      <th>correo</th>\n",
       "    </tr>\n",
       "  </thead>\n",
       "  <tbody>\n",
       "    <tr>\n",
       "      <th>0</th>\n",
       "      <td>María</td>\n",
       "      <td>18</td>\n",
       "      <td>Economía</td>\n",
       "      <td>maria@gmail.com</td>\n",
       "    </tr>\n",
       "    <tr>\n",
       "      <th>1</th>\n",
       "      <td>Luis</td>\n",
       "      <td>22</td>\n",
       "      <td>Medicina</td>\n",
       "      <td>luis@yahoo.es</td>\n",
       "    </tr>\n",
       "    <tr>\n",
       "      <th>2</th>\n",
       "      <td>Carmen</td>\n",
       "      <td>20</td>\n",
       "      <td>Arquitectura</td>\n",
       "      <td>carmen@gmail.com</td>\n",
       "    </tr>\n",
       "    <tr>\n",
       "      <th>3</th>\n",
       "      <td>Antonio</td>\n",
       "      <td>21</td>\n",
       "      <td>Economía</td>\n",
       "      <td>antonio@gmail.com</td>\n",
       "    </tr>\n",
       "  </tbody>\n",
       "</table>\n",
       "</div>"
      ],
      "text/plain": [
       "    nombre  edad         grado             correo\n",
       "0    María    18      Economía    maria@gmail.com\n",
       "1     Luis    22      Medicina      luis@yahoo.es\n",
       "2   Carmen    20  Arquitectura   carmen@gmail.com\n",
       "3  Antonio    21      Economía  antonio@gmail.com"
      ]
     },
     "execution_count": 30,
     "metadata": {},
     "output_type": "execute_result"
    }
   ],
   "source": [
    "pd.DataFrame(datos)"
   ]
  },
  {
   "cell_type": "code",
   "execution_count": 31,
   "id": "87b0da51",
   "metadata": {
    "scrolled": true
   },
   "outputs": [
    {
     "data": {
      "text/html": [
       "<div>\n",
       "<style scoped>\n",
       "    .dataframe tbody tr th:only-of-type {\n",
       "        vertical-align: middle;\n",
       "    }\n",
       "\n",
       "    .dataframe tbody tr th {\n",
       "        vertical-align: top;\n",
       "    }\n",
       "\n",
       "    .dataframe thead th {\n",
       "        text-align: right;\n",
       "    }\n",
       "</style>\n",
       "<table border=\"1\" class=\"dataframe\">\n",
       "  <thead>\n",
       "    <tr style=\"text-align: right;\">\n",
       "      <th></th>\n",
       "      <th>a</th>\n",
       "      <th>b</th>\n",
       "      <th>c</th>\n",
       "    </tr>\n",
       "  </thead>\n",
       "  <tbody>\n",
       "    <tr>\n",
       "      <th>0</th>\n",
       "      <td>-0.261888</td>\n",
       "      <td>-0.843963</td>\n",
       "      <td>-1.290922</td>\n",
       "    </tr>\n",
       "    <tr>\n",
       "      <th>1</th>\n",
       "      <td>-1.300587</td>\n",
       "      <td>-0.874607</td>\n",
       "      <td>0.205374</td>\n",
       "    </tr>\n",
       "    <tr>\n",
       "      <th>2</th>\n",
       "      <td>0.495178</td>\n",
       "      <td>1.125115</td>\n",
       "      <td>-0.587208</td>\n",
       "    </tr>\n",
       "    <tr>\n",
       "      <th>3</th>\n",
       "      <td>1.629117</td>\n",
       "      <td>1.056210</td>\n",
       "      <td>-0.205514</td>\n",
       "    </tr>\n",
       "  </tbody>\n",
       "</table>\n",
       "</div>"
      ],
      "text/plain": [
       "          a         b         c\n",
       "0 -0.261888 -0.843963 -1.290922\n",
       "1 -1.300587 -0.874607  0.205374\n",
       "2  0.495178  1.125115 -0.587208\n",
       "3  1.629117  1.056210 -0.205514"
      ]
     },
     "execution_count": 31,
     "metadata": {},
     "output_type": "execute_result"
    }
   ],
   "source": [
    "pd.DataFrame(np.random.randn(4, 3), columns=['a', 'b', 'c'])"
   ]
  },
  {
   "cell_type": "markdown",
   "id": "b1c352f0",
   "metadata": {},
   "source": [
    "- df.info() : Devuelve información (número de filas, número de columnas, índices, tipo de las columnas y memoria usado) sobre el DataFrame df.\n",
    "\n",
    "- df.shape : Devuelve una tupla con el número de filas y columnas del DataFrame df.\n",
    "\n",
    "- df.size : Devuelve el número de elementos del DataFrame.\n",
    "\n",
    "- df.columns : Devuelve una lista con los nombres de las columnas del DataFrame df.\n",
    "\n",
    "- df.index : Devuelve una lista con los nombres de las filas del DataFrame df.\n",
    "\n",
    "- df.dtypes : Devuelve una serie con los tipos de datos de las columnas del DataFrame df.\n",
    "\n",
    "- df.head(n) : Devuelve las n primeras filas del DataFrame df.\n",
    "\n",
    "- df.tail(n) : Devuelve las n últimas filas del DataFrame df."
   ]
  },
  {
   "cell_type": "code",
   "execution_count": 12,
   "id": "0d7c32d4",
   "metadata": {},
   "outputs": [],
   "source": [
    "df = pd.read_csv('data.csv')"
   ]
  },
  {
   "cell_type": "code",
   "execution_count": 13,
   "id": "65597a83",
   "metadata": {
    "scrolled": false
   },
   "outputs": [
    {
     "data": {
      "text/html": [
       "<div>\n",
       "<style scoped>\n",
       "    .dataframe tbody tr th:only-of-type {\n",
       "        vertical-align: middle;\n",
       "    }\n",
       "\n",
       "    .dataframe tbody tr th {\n",
       "        vertical-align: top;\n",
       "    }\n",
       "\n",
       "    .dataframe thead th {\n",
       "        text-align: right;\n",
       "    }\n",
       "</style>\n",
       "<table border=\"1\" class=\"dataframe\">\n",
       "  <thead>\n",
       "    <tr style=\"text-align: right;\">\n",
       "      <th></th>\n",
       "      <th>date</th>\n",
       "      <th>price</th>\n",
       "      <th>bedrooms</th>\n",
       "      <th>bathrooms</th>\n",
       "      <th>sqft_living</th>\n",
       "      <th>sqft_lot</th>\n",
       "      <th>floors</th>\n",
       "      <th>waterfront</th>\n",
       "      <th>view</th>\n",
       "      <th>condition</th>\n",
       "      <th>sqft_above</th>\n",
       "      <th>sqft_basement</th>\n",
       "      <th>yr_built</th>\n",
       "      <th>yr_renovated</th>\n",
       "      <th>street</th>\n",
       "      <th>city</th>\n",
       "      <th>statezip</th>\n",
       "      <th>country</th>\n",
       "    </tr>\n",
       "  </thead>\n",
       "  <tbody>\n",
       "    <tr>\n",
       "      <th>0</th>\n",
       "      <td>02-05-2014 0:00</td>\n",
       "      <td>313000.0</td>\n",
       "      <td>3.0</td>\n",
       "      <td>1.50</td>\n",
       "      <td>1340.0</td>\n",
       "      <td>7912.0</td>\n",
       "      <td>1.5</td>\n",
       "      <td>0.0</td>\n",
       "      <td>0.0</td>\n",
       "      <td>3.0</td>\n",
       "      <td>1340.0</td>\n",
       "      <td>0.0</td>\n",
       "      <td>1955.0</td>\n",
       "      <td>2005.0</td>\n",
       "      <td>18810 Densmore Ave N</td>\n",
       "      <td>Shoreline</td>\n",
       "      <td>WA 98133</td>\n",
       "      <td>USA</td>\n",
       "    </tr>\n",
       "    <tr>\n",
       "      <th>1</th>\n",
       "      <td>02-05-2014 0:00</td>\n",
       "      <td>2384000.0</td>\n",
       "      <td>5.0</td>\n",
       "      <td>2.50</td>\n",
       "      <td>3650.0</td>\n",
       "      <td>9050.0</td>\n",
       "      <td>2.0</td>\n",
       "      <td>0.0</td>\n",
       "      <td>4.0</td>\n",
       "      <td>5.0</td>\n",
       "      <td>3370.0</td>\n",
       "      <td>280.0</td>\n",
       "      <td>1921.0</td>\n",
       "      <td>0.0</td>\n",
       "      <td>709 W Blaine St</td>\n",
       "      <td>Seattle</td>\n",
       "      <td>WA 98119</td>\n",
       "      <td>USA</td>\n",
       "    </tr>\n",
       "    <tr>\n",
       "      <th>2</th>\n",
       "      <td>02-05-2014 0:00</td>\n",
       "      <td>342000.0</td>\n",
       "      <td>3.0</td>\n",
       "      <td>2.00</td>\n",
       "      <td>1930.0</td>\n",
       "      <td>11947.0</td>\n",
       "      <td>1.0</td>\n",
       "      <td>0.0</td>\n",
       "      <td>0.0</td>\n",
       "      <td>4.0</td>\n",
       "      <td>1930.0</td>\n",
       "      <td>0.0</td>\n",
       "      <td>1966.0</td>\n",
       "      <td>0.0</td>\n",
       "      <td>26206-26214 143rd Ave SE</td>\n",
       "      <td>Kent</td>\n",
       "      <td>WA 98042</td>\n",
       "      <td>USA</td>\n",
       "    </tr>\n",
       "    <tr>\n",
       "      <th>3</th>\n",
       "      <td>02-05-2014 0:00</td>\n",
       "      <td>420000.0</td>\n",
       "      <td>3.0</td>\n",
       "      <td>2.25</td>\n",
       "      <td>2000.0</td>\n",
       "      <td>8030.0</td>\n",
       "      <td>1.0</td>\n",
       "      <td>0.0</td>\n",
       "      <td>0.0</td>\n",
       "      <td>4.0</td>\n",
       "      <td>1000.0</td>\n",
       "      <td>1000.0</td>\n",
       "      <td>1963.0</td>\n",
       "      <td>0.0</td>\n",
       "      <td>857 170th Pl NE</td>\n",
       "      <td>Bellevue</td>\n",
       "      <td>WA 98008</td>\n",
       "      <td>USA</td>\n",
       "    </tr>\n",
       "    <tr>\n",
       "      <th>4</th>\n",
       "      <td>02-05-2014 0:00</td>\n",
       "      <td>550000.0</td>\n",
       "      <td>4.0</td>\n",
       "      <td>2.50</td>\n",
       "      <td>1940.0</td>\n",
       "      <td>10500.0</td>\n",
       "      <td>1.0</td>\n",
       "      <td>0.0</td>\n",
       "      <td>0.0</td>\n",
       "      <td>4.0</td>\n",
       "      <td>1140.0</td>\n",
       "      <td>800.0</td>\n",
       "      <td>1976.0</td>\n",
       "      <td>1992.0</td>\n",
       "      <td>9105 170th Ave NE</td>\n",
       "      <td>Redmond</td>\n",
       "      <td>WA 98052</td>\n",
       "      <td>USA</td>\n",
       "    </tr>\n",
       "    <tr>\n",
       "      <th>5</th>\n",
       "      <td>02-05-2014 0:00</td>\n",
       "      <td>490000.0</td>\n",
       "      <td>2.0</td>\n",
       "      <td>1.00</td>\n",
       "      <td>880.0</td>\n",
       "      <td>6380.0</td>\n",
       "      <td>1.0</td>\n",
       "      <td>0.0</td>\n",
       "      <td>0.0</td>\n",
       "      <td>3.0</td>\n",
       "      <td>880.0</td>\n",
       "      <td>0.0</td>\n",
       "      <td>1938.0</td>\n",
       "      <td>1994.0</td>\n",
       "      <td>522 NE 88th St</td>\n",
       "      <td>Seattle</td>\n",
       "      <td>WA 98115</td>\n",
       "      <td>USA</td>\n",
       "    </tr>\n",
       "    <tr>\n",
       "      <th>6</th>\n",
       "      <td>02-05-2014 0:00</td>\n",
       "      <td>335000.0</td>\n",
       "      <td>2.0</td>\n",
       "      <td>2.00</td>\n",
       "      <td>1350.0</td>\n",
       "      <td>2560.0</td>\n",
       "      <td>1.0</td>\n",
       "      <td>0.0</td>\n",
       "      <td>0.0</td>\n",
       "      <td>3.0</td>\n",
       "      <td>1350.0</td>\n",
       "      <td>0.0</td>\n",
       "      <td>1976.0</td>\n",
       "      <td>0.0</td>\n",
       "      <td>2616 174th Ave NE</td>\n",
       "      <td>Redmond</td>\n",
       "      <td>WA 98052</td>\n",
       "      <td>USA</td>\n",
       "    </tr>\n",
       "    <tr>\n",
       "      <th>7</th>\n",
       "      <td>02-05-2014 0:00</td>\n",
       "      <td>482000.0</td>\n",
       "      <td>4.0</td>\n",
       "      <td>2.50</td>\n",
       "      <td>2710.0</td>\n",
       "      <td>35868.0</td>\n",
       "      <td>2.0</td>\n",
       "      <td>0.0</td>\n",
       "      <td>0.0</td>\n",
       "      <td>3.0</td>\n",
       "      <td>2710.0</td>\n",
       "      <td>0.0</td>\n",
       "      <td>1989.0</td>\n",
       "      <td>0.0</td>\n",
       "      <td>23762 SE 253rd Pl</td>\n",
       "      <td>Maple Valley</td>\n",
       "      <td>WA 98038</td>\n",
       "      <td>USA</td>\n",
       "    </tr>\n",
       "    <tr>\n",
       "      <th>8</th>\n",
       "      <td>02-05-2014 0:00</td>\n",
       "      <td>452500.0</td>\n",
       "      <td>3.0</td>\n",
       "      <td>2.50</td>\n",
       "      <td>2430.0</td>\n",
       "      <td>88426.0</td>\n",
       "      <td>1.0</td>\n",
       "      <td>0.0</td>\n",
       "      <td>0.0</td>\n",
       "      <td>4.0</td>\n",
       "      <td>1570.0</td>\n",
       "      <td>860.0</td>\n",
       "      <td>1985.0</td>\n",
       "      <td>0.0</td>\n",
       "      <td>46611-46625 SE 129th St</td>\n",
       "      <td>North Bend</td>\n",
       "      <td>WA 98045</td>\n",
       "      <td>USA</td>\n",
       "    </tr>\n",
       "    <tr>\n",
       "      <th>9</th>\n",
       "      <td>02-05-2014 0:00</td>\n",
       "      <td>640000.0</td>\n",
       "      <td>4.0</td>\n",
       "      <td>2.00</td>\n",
       "      <td>1520.0</td>\n",
       "      <td>6200.0</td>\n",
       "      <td>1.5</td>\n",
       "      <td>0.0</td>\n",
       "      <td>0.0</td>\n",
       "      <td>3.0</td>\n",
       "      <td>1520.0</td>\n",
       "      <td>0.0</td>\n",
       "      <td>1945.0</td>\n",
       "      <td>2010.0</td>\n",
       "      <td>6811 55th Ave NE</td>\n",
       "      <td>Seattle</td>\n",
       "      <td>WA 98115</td>\n",
       "      <td>USA</td>\n",
       "    </tr>\n",
       "  </tbody>\n",
       "</table>\n",
       "</div>"
      ],
      "text/plain": [
       "              date      price  bedrooms  bathrooms  sqft_living  sqft_lot  \\\n",
       "0  02-05-2014 0:00   313000.0       3.0       1.50       1340.0    7912.0   \n",
       "1  02-05-2014 0:00  2384000.0       5.0       2.50       3650.0    9050.0   \n",
       "2  02-05-2014 0:00   342000.0       3.0       2.00       1930.0   11947.0   \n",
       "3  02-05-2014 0:00   420000.0       3.0       2.25       2000.0    8030.0   \n",
       "4  02-05-2014 0:00   550000.0       4.0       2.50       1940.0   10500.0   \n",
       "5  02-05-2014 0:00   490000.0       2.0       1.00        880.0    6380.0   \n",
       "6  02-05-2014 0:00   335000.0       2.0       2.00       1350.0    2560.0   \n",
       "7  02-05-2014 0:00   482000.0       4.0       2.50       2710.0   35868.0   \n",
       "8  02-05-2014 0:00   452500.0       3.0       2.50       2430.0   88426.0   \n",
       "9  02-05-2014 0:00   640000.0       4.0       2.00       1520.0    6200.0   \n",
       "\n",
       "   floors  waterfront  view  condition  sqft_above  sqft_basement  yr_built  \\\n",
       "0     1.5         0.0   0.0        3.0      1340.0            0.0    1955.0   \n",
       "1     2.0         0.0   4.0        5.0      3370.0          280.0    1921.0   \n",
       "2     1.0         0.0   0.0        4.0      1930.0            0.0    1966.0   \n",
       "3     1.0         0.0   0.0        4.0      1000.0         1000.0    1963.0   \n",
       "4     1.0         0.0   0.0        4.0      1140.0          800.0    1976.0   \n",
       "5     1.0         0.0   0.0        3.0       880.0            0.0    1938.0   \n",
       "6     1.0         0.0   0.0        3.0      1350.0            0.0    1976.0   \n",
       "7     2.0         0.0   0.0        3.0      2710.0            0.0    1989.0   \n",
       "8     1.0         0.0   0.0        4.0      1570.0          860.0    1985.0   \n",
       "9     1.5         0.0   0.0        3.0      1520.0            0.0    1945.0   \n",
       "\n",
       "   yr_renovated                    street          city  statezip country  \n",
       "0        2005.0      18810 Densmore Ave N     Shoreline  WA 98133     USA  \n",
       "1           0.0           709 W Blaine St       Seattle  WA 98119     USA  \n",
       "2           0.0  26206-26214 143rd Ave SE          Kent  WA 98042     USA  \n",
       "3           0.0           857 170th Pl NE      Bellevue  WA 98008     USA  \n",
       "4        1992.0         9105 170th Ave NE       Redmond  WA 98052     USA  \n",
       "5        1994.0            522 NE 88th St       Seattle  WA 98115     USA  \n",
       "6           0.0         2616 174th Ave NE       Redmond  WA 98052     USA  \n",
       "7           0.0         23762 SE 253rd Pl  Maple Valley  WA 98038     USA  \n",
       "8           0.0   46611-46625 SE 129th St    North Bend  WA 98045     USA  \n",
       "9        2010.0          6811 55th Ave NE       Seattle  WA 98115     USA  "
      ]
     },
     "execution_count": 13,
     "metadata": {},
     "output_type": "execute_result"
    }
   ],
   "source": [
    "df.head(10)"
   ]
  },
  {
   "cell_type": "code",
   "execution_count": 14,
   "id": "53e9b775",
   "metadata": {},
   "outputs": [
    {
     "data": {
      "text/plain": [
       "date              0\n",
       "price             0\n",
       "bedrooms          0\n",
       "bathrooms         0\n",
       "sqft_living       6\n",
       "sqft_lot          6\n",
       "floors            6\n",
       "waterfront        5\n",
       "view              5\n",
       "condition         5\n",
       "sqft_above       18\n",
       "sqft_basement     5\n",
       "yr_built          1\n",
       "yr_renovated      1\n",
       "street            1\n",
       "city              0\n",
       "statezip          0\n",
       "country           0\n",
       "dtype: int64"
      ]
     },
     "execution_count": 14,
     "metadata": {},
     "output_type": "execute_result"
    }
   ],
   "source": [
    "df.isna().sum()"
   ]
  }
 ],
 "metadata": {
  "kernelspec": {
   "display_name": "Python 3 (ipykernel)",
   "language": "python",
   "name": "python3"
  },
  "language_info": {
   "codemirror_mode": {
    "name": "ipython",
    "version": 3
   },
   "file_extension": ".py",
   "mimetype": "text/x-python",
   "name": "python",
   "nbconvert_exporter": "python",
   "pygments_lexer": "ipython3",
   "version": "3.9.13"
  }
 },
 "nbformat": 4,
 "nbformat_minor": 5
}
