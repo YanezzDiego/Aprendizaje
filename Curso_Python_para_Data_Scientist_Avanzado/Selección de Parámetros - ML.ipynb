{
 "cells": [
  {
   "cell_type": "code",
   "execution_count": 1,
   "id": "3b6267e7",
   "metadata": {},
   "outputs": [],
   "source": [
    "#Importamos librerías\n",
    "import pandas as pd \n",
    "from sklearn.preprocessing import StandardScaler\n",
    "import numpy as np\n",
    "from xgboost import XGBRegressor\n",
    "from sklearn.metrics import r2_score\n",
    "from sklearn.model_selection import train_test_split\n",
    "from sklearn import linear_model\n",
    "import statsmodels.api as sm\n",
    "from sklearn.linear_model import LinearRegression\n",
    "from sklearn.feature_selection import RFE\n",
    "from sklearn.neural_network import MLPRegressor\n"
   ]
  },
  {
   "cell_type": "code",
   "execution_count": 2,
   "id": "e9c611c1",
   "metadata": {},
   "outputs": [],
   "source": [
    "#Importamos base de datos\n",
    "df = pd.read_csv(\"base_datos_2008.csv\")"
   ]
  },
  {
   "cell_type": "code",
   "execution_count": 3,
   "id": "68898b69",
   "metadata": {},
   "outputs": [],
   "source": [
    "#Se debe utilizar solo datos que tengan valor en la variable dependiente\n",
    "df= df.dropna(subset=[\"ArrDelay\",\"Distance\",\"TaxiIn\",\"TaxiOut\",\"DepDelay\",\"AirTime\"])\n",
    "df=df.sample(frac=1).head(1000)"
   ]
  },
  {
   "cell_type": "code",
   "execution_count": 5,
   "id": "79e43959",
   "metadata": {},
   "outputs": [],
   "source": [
    "X=df[[\"Distance\",\"TaxiIn\",\"TaxiOut\",\"DepDelay\",\"AirTime\"]]\n",
    "Y=df[\"ArrDelay\"]"
   ]
  },
  {
   "cell_type": "code",
   "execution_count": 7,
   "id": "1a59f2ca",
   "metadata": {},
   "outputs": [],
   "source": [
    "X_train, X_test, y_train, y_test = train_test_split(X,Y, test_size=0.2,random_state=10)\n",
    "scaler=StandardScaler()\n",
    "scaler.fit(X_train)\n",
    "\n",
    "X_train = scaler.transform(X_train)\n",
    "X_test = scaler.transform(X_test)"
   ]
  },
  {
   "cell_type": "code",
   "execution_count": 11,
   "id": "a893f3a4",
   "metadata": {},
   "outputs": [],
   "source": [
    "alphas= [0.000001,0.0001,0.01,0.1] #parametro de regularizacion \n",
    "layers= [2,5,10,50,100] #numero de capas ocultas\n",
    "solvers= [\"lbfgs\",\"adam\"] #funcion de optimizacion"
   ]
  },
  {
   "cell_type": "code",
   "execution_count": 15,
   "id": "580a4a29",
   "metadata": {},
   "outputs": [
    {
     "name": "stdout",
     "output_type": "stream",
     "text": [
      "El numero de combinaciones posibles es 40\n"
     ]
    }
   ],
   "source": [
    "print(f\"El numero de combinaciones posibles es { len(alphas)*len(layers)*len(solvers)}\")"
   ]
  },
  {
   "cell_type": "code",
   "execution_count": 19,
   "id": "c541f1d4",
   "metadata": {},
   "outputs": [
    {
     "name": "stdout",
     "output_type": "stream",
     "text": [
      "R cuadrado: 0.9012193319925152\n",
      "Solver:lbfgs\n",
      "Layers:2\n",
      "Alpha:1e-06\n",
      "---------------\n"
     ]
    },
    {
     "name": "stderr",
     "output_type": "stream",
     "text": [
      "C:\\Users\\Diego\\anaconda3\\lib\\site-packages\\sklearn\\neural_network\\_multilayer_perceptron.py:699: UserWarning: Training interrupted by user.\n",
      "  warnings.warn(\"Training interrupted by user.\")\n"
     ]
    },
    {
     "name": "stdout",
     "output_type": "stream",
     "text": [
      "R cuadrado: 0.8767563137890925\n",
      "Solver:adam\n",
      "Layers:2\n",
      "Alpha:1e-06\n",
      "---------------\n",
      "R cuadrado: 0.9045091951159808\n",
      "Solver:lbfgs\n",
      "Layers:5\n",
      "Alpha:1e-06\n",
      "---------------\n",
      "R cuadrado: 0.8918227963339496\n",
      "Solver:adam\n",
      "Layers:5\n",
      "Alpha:1e-06\n",
      "---------------\n",
      "R cuadrado: 0.8954873882941009\n",
      "Solver:lbfgs\n",
      "Layers:10\n",
      "Alpha:1e-06\n",
      "---------------\n"
     ]
    },
    {
     "name": "stderr",
     "output_type": "stream",
     "text": [
      "C:\\Users\\Diego\\anaconda3\\lib\\site-packages\\sklearn\\neural_network\\_multilayer_perceptron.py:699: UserWarning: Training interrupted by user.\n",
      "  warnings.warn(\"Training interrupted by user.\")\n"
     ]
    },
    {
     "name": "stdout",
     "output_type": "stream",
     "text": [
      "R cuadrado: 0.8963512476429575\n",
      "Solver:adam\n",
      "Layers:10\n",
      "Alpha:1e-06\n",
      "---------------\n",
      "R cuadrado: 0.8554997756483116\n",
      "Solver:lbfgs\n",
      "Layers:50\n",
      "Alpha:1e-06\n",
      "---------------\n",
      "R cuadrado: 0.9018865327885506\n",
      "Solver:adam\n",
      "Layers:50\n",
      "Alpha:1e-06\n",
      "---------------\n"
     ]
    },
    {
     "name": "stderr",
     "output_type": "stream",
     "text": [
      "C:\\Users\\Diego\\anaconda3\\lib\\site-packages\\sklearn\\neural_network\\_multilayer_perceptron.py:549: ConvergenceWarning: lbfgs failed to converge (status=1):\n",
      "STOP: TOTAL NO. of ITERATIONS REACHED LIMIT.\n",
      "\n",
      "Increase the number of iterations (max_iter) or scale the data as shown in:\n",
      "    https://scikit-learn.org/stable/modules/preprocessing.html\n",
      "  self.n_iter_ = _check_optimize_result(\"lbfgs\", opt_res, self.max_iter)\n"
     ]
    },
    {
     "name": "stdout",
     "output_type": "stream",
     "text": [
      "R cuadrado: 0.5842266145047248\n",
      "Solver:lbfgs\n",
      "Layers:100\n",
      "Alpha:1e-06\n",
      "---------------\n",
      "R cuadrado: 0.9037704475017811\n",
      "Solver:adam\n",
      "Layers:100\n",
      "Alpha:1e-06\n",
      "---------------\n",
      "R cuadrado: 0.8937399984023489\n",
      "Solver:lbfgs\n",
      "Layers:2\n",
      "Alpha:0.0001\n",
      "---------------\n",
      "R cuadrado: 0.8893800653436297\n",
      "Solver:adam\n",
      "Layers:2\n",
      "Alpha:0.0001\n",
      "---------------\n",
      "R cuadrado: 0.9092823595419353\n",
      "Solver:lbfgs\n",
      "Layers:5\n",
      "Alpha:0.0001\n",
      "---------------\n",
      "R cuadrado: 0.8918622489051079\n",
      "Solver:adam\n",
      "Layers:5\n",
      "Alpha:0.0001\n",
      "---------------\n",
      "R cuadrado: 0.9063376180426317\n",
      "Solver:lbfgs\n",
      "Layers:10\n",
      "Alpha:0.0001\n",
      "---------------\n",
      "R cuadrado: 0.89231608440349\n",
      "Solver:adam\n",
      "Layers:10\n",
      "Alpha:0.0001\n",
      "---------------\n",
      "R cuadrado: 0.808374094138318\n",
      "Solver:lbfgs\n",
      "Layers:50\n",
      "Alpha:0.0001\n",
      "---------------\n",
      "R cuadrado: 0.9005856242579678\n",
      "Solver:adam\n",
      "Layers:50\n",
      "Alpha:0.0001\n",
      "---------------\n"
     ]
    },
    {
     "name": "stderr",
     "output_type": "stream",
     "text": [
      "C:\\Users\\Diego\\anaconda3\\lib\\site-packages\\sklearn\\neural_network\\_multilayer_perceptron.py:549: ConvergenceWarning: lbfgs failed to converge (status=1):\n",
      "STOP: TOTAL NO. of ITERATIONS REACHED LIMIT.\n",
      "\n",
      "Increase the number of iterations (max_iter) or scale the data as shown in:\n",
      "    https://scikit-learn.org/stable/modules/preprocessing.html\n",
      "  self.n_iter_ = _check_optimize_result(\"lbfgs\", opt_res, self.max_iter)\n"
     ]
    },
    {
     "name": "stdout",
     "output_type": "stream",
     "text": [
      "R cuadrado: 0.7190261530633538\n",
      "Solver:lbfgs\n",
      "Layers:100\n",
      "Alpha:0.0001\n",
      "---------------\n",
      "R cuadrado: 0.9026955871235964\n",
      "Solver:adam\n",
      "Layers:100\n",
      "Alpha:0.0001\n",
      "---------------\n",
      "R cuadrado: 0.9012285911964308\n",
      "Solver:lbfgs\n",
      "Layers:2\n",
      "Alpha:0.01\n",
      "---------------\n",
      "R cuadrado: 0.8912596715850878\n",
      "Solver:adam\n",
      "Layers:2\n",
      "Alpha:0.01\n",
      "---------------\n",
      "R cuadrado: 0.898370218729919\n",
      "Solver:lbfgs\n",
      "Layers:5\n",
      "Alpha:0.01\n",
      "---------------\n",
      "R cuadrado: 0.8904236975551781\n",
      "Solver:adam\n",
      "Layers:5\n",
      "Alpha:0.01\n",
      "---------------\n",
      "R cuadrado: 0.9087958403441667\n",
      "Solver:lbfgs\n",
      "Layers:10\n",
      "Alpha:0.01\n",
      "---------------\n",
      "R cuadrado: 0.897774309436452\n",
      "Solver:adam\n",
      "Layers:10\n",
      "Alpha:0.01\n",
      "---------------\n",
      "R cuadrado: 0.8668553802267022\n",
      "Solver:lbfgs\n",
      "Layers:50\n",
      "Alpha:0.01\n",
      "---------------\n",
      "R cuadrado: 0.90355840170992\n",
      "Solver:adam\n",
      "Layers:50\n",
      "Alpha:0.01\n",
      "---------------\n"
     ]
    },
    {
     "name": "stderr",
     "output_type": "stream",
     "text": [
      "C:\\Users\\Diego\\anaconda3\\lib\\site-packages\\sklearn\\neural_network\\_multilayer_perceptron.py:549: ConvergenceWarning: lbfgs failed to converge (status=1):\n",
      "STOP: TOTAL NO. of ITERATIONS REACHED LIMIT.\n",
      "\n",
      "Increase the number of iterations (max_iter) or scale the data as shown in:\n",
      "    https://scikit-learn.org/stable/modules/preprocessing.html\n",
      "  self.n_iter_ = _check_optimize_result(\"lbfgs\", opt_res, self.max_iter)\n"
     ]
    },
    {
     "name": "stdout",
     "output_type": "stream",
     "text": [
      "R cuadrado: 0.79789277669759\n",
      "Solver:lbfgs\n",
      "Layers:100\n",
      "Alpha:0.01\n",
      "---------------\n",
      "R cuadrado: 0.903230795870798\n",
      "Solver:adam\n",
      "Layers:100\n",
      "Alpha:0.01\n",
      "---------------\n",
      "R cuadrado: 0.8932079345875145\n",
      "Solver:lbfgs\n",
      "Layers:2\n",
      "Alpha:0.1\n",
      "---------------\n",
      "R cuadrado: 0.891829071887392\n",
      "Solver:adam\n",
      "Layers:2\n",
      "Alpha:0.1\n",
      "---------------\n",
      "R cuadrado: 0.8941966755923876\n",
      "Solver:lbfgs\n",
      "Layers:5\n",
      "Alpha:0.1\n",
      "---------------\n",
      "R cuadrado: 0.8919902824716363\n",
      "Solver:adam\n",
      "Layers:5\n",
      "Alpha:0.1\n",
      "---------------\n",
      "R cuadrado: 0.9066100229139605\n",
      "Solver:lbfgs\n",
      "Layers:10\n",
      "Alpha:0.1\n",
      "---------------\n",
      "R cuadrado: 0.8940245757369001\n",
      "Solver:adam\n",
      "Layers:10\n",
      "Alpha:0.1\n",
      "---------------\n",
      "R cuadrado: 0.881073742772188\n",
      "Solver:lbfgs\n",
      "Layers:50\n",
      "Alpha:0.1\n",
      "---------------\n",
      "R cuadrado: 0.9031553476527516\n",
      "Solver:adam\n",
      "Layers:50\n",
      "Alpha:0.1\n",
      "---------------\n"
     ]
    },
    {
     "name": "stderr",
     "output_type": "stream",
     "text": [
      "C:\\Users\\Diego\\anaconda3\\lib\\site-packages\\sklearn\\neural_network\\_multilayer_perceptron.py:549: ConvergenceWarning: lbfgs failed to converge (status=1):\n",
      "STOP: TOTAL NO. of ITERATIONS REACHED LIMIT.\n",
      "\n",
      "Increase the number of iterations (max_iter) or scale the data as shown in:\n",
      "    https://scikit-learn.org/stable/modules/preprocessing.html\n",
      "  self.n_iter_ = _check_optimize_result(\"lbfgs\", opt_res, self.max_iter)\n"
     ]
    },
    {
     "name": "stdout",
     "output_type": "stream",
     "text": [
      "R cuadrado: 0.7622767650788106\n",
      "Solver:lbfgs\n",
      "Layers:100\n",
      "Alpha:0.1\n",
      "---------------\n",
      "R cuadrado: 0.9024955028203026\n",
      "Solver:adam\n",
      "Layers:100\n",
      "Alpha:0.1\n",
      "---------------\n"
     ]
    }
   ],
   "source": [
    "for alpha in alphas:\n",
    "    for layer in layers:\n",
    "        for solver in solvers:\n",
    "            clf = MLPRegressor(solver=solver, alpha=alpha, hidden_layer_sizes=(layer,),warm_start=True, max_iter=10000)\n",
    "            model = clf.fit(X_train,y_train)\n",
    "            predictions=model.predict(X_test)\n",
    "            print(f\"R cuadrado: {r2_score(y_test,predictions)}\")\n",
    "            print(f\"Solver:{solver}\")\n",
    "            print(f\"Layers:{layer}\")\n",
    "            print(f\"Alpha:{alpha}\")\n",
    "            print(\"---------------------------------------\")\n"
   ]
  }
 ],
 "metadata": {
  "kernelspec": {
   "display_name": "Python 3 (ipykernel)",
   "language": "python",
   "name": "python3"
  },
  "language_info": {
   "codemirror_mode": {
    "name": "ipython",
    "version": 3
   },
   "file_extension": ".py",
   "mimetype": "text/x-python",
   "name": "python",
   "nbconvert_exporter": "python",
   "pygments_lexer": "ipython3",
   "version": "3.9.13"
  }
 },
 "nbformat": 4,
 "nbformat_minor": 5
}
