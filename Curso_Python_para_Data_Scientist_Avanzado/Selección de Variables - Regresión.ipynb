{
 "cells": [
  {
   "cell_type": "code",
   "execution_count": 10,
   "id": "3b6267e7",
   "metadata": {},
   "outputs": [],
   "source": [
    "#Importamos librerías\n",
    "import pandas as pd \n",
    "from sklearn.preprocessing import StandardScaler\n",
    "import numpy as np\n",
    "from xgboost import XGBRegressor\n",
    "from sklearn.metrics import r2_score\n",
    "from sklearn.model_selection import train_test_split\n",
    "from sklearn import linear_model\n",
    "import statsmodels.api as sm\n",
    "from sklearn.linear_model import LinearRegression"
   ]
  },
  {
   "cell_type": "code",
   "execution_count": 52,
   "id": "e9c611c1",
   "metadata": {},
   "outputs": [],
   "source": [
    "#Importamos base de datos\n",
    "df = pd.read_csv(\"base_datos_2008.csv\")"
   ]
  },
  {
   "cell_type": "code",
   "execution_count": 53,
   "id": "68898b69",
   "metadata": {},
   "outputs": [],
   "source": [
    "#Se debe utilizar solo datos que tengan valor en la variable dependiente\n",
    "df= df.dropna(subset=[\"ArrDelay\",\"Distance\",\"TaxiIn\",\"TaxiOut\",\"DepDelay\",\"AirTime\",\"Month\",\"DayofMonth\",\"DayOfWeek\",\"WeatherDelay\"])\n",
    "df=df.sample(frac=1).head(1000)"
   ]
  },
  {
   "cell_type": "code",
   "execution_count": 65,
   "id": "79e43959",
   "metadata": {},
   "outputs": [],
   "source": [
    "X=df[[\"Distance\",\"TaxiIn\",\"TaxiOut\",\"DepDelay\",\"AirTime\",\"WeatherDelay\"]]\n",
    "Y=df[\"ArrDelay\"]"
   ]
  },
  {
   "cell_type": "code",
   "execution_count": 66,
   "id": "bc49424b",
   "metadata": {},
   "outputs": [],
   "source": [
    "df[\"Month\"]=df[\"Month\"].apply(str)\n",
    "df[\"DayofMonth\"]=df[\"DayofMonth\"].apply(str)\n",
    "df[\"DayOfWeek\"]=df[\"DayOfWeek\"].apply(str)\n",
    "dummies=pd.get_dummies(data=df[[\"Month\",\"DayofMonth\",\"DayOfWeek\"]])\n",
    "X=dummies.add(X,fill_value=0)"
   ]
  },
  {
   "cell_type": "code",
   "execution_count": 67,
   "id": "d33e2fbd",
   "metadata": {},
   "outputs": [],
   "source": [
    "regr= LinearRegression()\n",
    "regr.fit(X,Y)\n",
    "predicciones=regr.predict(X)"
   ]
  },
  {
   "cell_type": "code",
   "execution_count": 68,
   "id": "a623deb3",
   "metadata": {},
   "outputs": [
    {
     "name": "stdout",
     "output_type": "stream",
     "text": [
      "                            OLS Regression Results                            \n",
      "==============================================================================\n",
      "Dep. Variable:               ArrDelay   R-squared:                       0.966\n",
      "Model:                            OLS   Adj. R-squared:                  0.964\n",
      "Method:                 Least Squares   F-statistic:                     501.3\n",
      "Date:                Thu, 26 Oct 2023   Prob (F-statistic):               0.00\n",
      "Time:                        23:52:24   Log-Likelihood:                -3721.3\n",
      "No. Observations:                1000   AIC:                             7551.\n",
      "Df Residuals:                     946   BIC:                             7816.\n",
      "Df Model:                          53                                         \n",
      "Covariance Type:            nonrobust                                         \n",
      "=================================================================================\n",
      "                    coef    std err          t      P>|t|      [0.025      0.975]\n",
      "---------------------------------------------------------------------------------\n",
      "const           -19.7450      0.722    -27.337      0.000     -21.163     -18.328\n",
      "AirTime           0.5075      0.021     24.415      0.000       0.467       0.548\n",
      "DayOfWeek_1      -2.3136      0.837     -2.763      0.006      -3.957      -0.671\n",
      "DayOfWeek_2      -2.4886      0.844     -2.949      0.003      -4.145      -0.832\n",
      "DayOfWeek_3      -3.9014      0.848     -4.601      0.000      -5.565      -2.237\n",
      "DayOfWeek_4      -3.2066      0.871     -3.681      0.000      -4.916      -1.497\n",
      "DayOfWeek_5      -2.7963      0.813     -3.437      0.001      -4.393      -1.200\n",
      "DayOfWeek_6      -1.8388      0.854     -2.154      0.032      -3.514      -0.163\n",
      "DayOfWeek_7      -3.1998      0.841     -3.806      0.000      -4.850      -1.550\n",
      "DayofMonth_1      2.2548      1.679      1.343      0.179      -1.039       5.549\n",
      "DayofMonth_10    -1.7310      1.862     -0.930      0.353      -5.385       1.923\n",
      "DayofMonth_11    -1.4963      1.982     -0.755      0.451      -5.386       2.394\n",
      "DayofMonth_12    -3.3139      1.769     -1.874      0.061      -6.785       0.157\n",
      "DayofMonth_13    -4.2739      2.045     -2.090      0.037      -8.286      -0.261\n",
      "DayofMonth_14     0.1617      1.683      0.096      0.923      -3.140       3.464\n",
      "DayofMonth_15    -1.2469      1.875     -0.665      0.506      -4.926       2.432\n",
      "DayofMonth_16    -0.2880      1.718     -0.168      0.867      -3.660       3.084\n",
      "DayofMonth_17    -1.9341      1.949     -0.993      0.321      -5.758       1.890\n",
      "DayofMonth_18    -1.0256      1.657     -0.619      0.536      -4.278       2.226\n",
      "DayofMonth_19    -1.4935      1.540     -0.970      0.333      -4.516       1.530\n",
      "DayofMonth_2      0.4400      1.698      0.259      0.796      -2.891       3.772\n",
      "DayofMonth_20     0.1439      2.021      0.071      0.943      -3.822       4.109\n",
      "DayofMonth_21    -0.4390      1.676     -0.262      0.793      -3.728       2.850\n",
      "DayofMonth_22    -2.2702      1.784     -1.272      0.204      -5.772       1.231\n",
      "DayofMonth_23    -1.2931      1.675     -0.772      0.440      -4.581       1.995\n",
      "DayofMonth_24    -0.7419      2.027     -0.366      0.714      -4.719       3.236\n",
      "DayofMonth_25    -0.9880      2.071     -0.477      0.633      -5.053       3.077\n",
      "DayofMonth_26    -1.5727      1.543     -1.020      0.308      -4.600       1.455\n",
      "DayofMonth_27    -1.7862      2.019     -0.885      0.377      -5.749       2.176\n",
      "DayofMonth_28    -1.2351      1.680     -0.735      0.462      -4.532       2.061\n",
      "DayofMonth_29    -1.7697      2.411     -0.734      0.463      -6.501       2.961\n",
      "DayofMonth_3      3.1535      1.731      1.821      0.069      -0.244       6.551\n",
      "DayofMonth_30     0.5083      1.673      0.304      0.761      -2.774       3.791\n",
      "DayofMonth_31     0.9320      1.959      0.476      0.634      -2.913       4.777\n",
      "DayofMonth_4      0.7191      2.044      0.352      0.725      -3.292       4.731\n",
      "DayofMonth_5     -1.4116      1.841     -0.767      0.443      -5.025       2.202\n",
      "DayofMonth_6     -0.2188      1.986     -0.110      0.912      -4.115       3.678\n",
      "DayofMonth_7      1.6002      1.766      0.906      0.365      -1.865       5.065\n",
      "DayofMonth_8     -1.7720      1.971     -0.899      0.369      -5.640       2.096\n",
      "DayofMonth_9      2.6429      1.792      1.475      0.141      -0.874       6.160\n",
      "DepDelay          0.9663      0.006    149.045      0.000       0.954       0.979\n",
      "Distance         -0.0630      0.003    -24.107      0.000      -0.068      -0.058\n",
      "Month_1          -1.4187      0.969     -1.464      0.143      -3.320       0.483\n",
      "Month_10         -0.1149      1.355     -0.085      0.932      -2.774       2.544\n",
      "Month_11         -1.4238      1.244     -1.144      0.253      -3.865       1.018\n",
      "Month_12         -3.5750      0.982     -3.640      0.000      -5.502      -1.648\n",
      "Month_2          -0.3548      1.042     -0.341      0.733      -2.399       1.689\n",
      "Month_3          -2.8908      0.976     -2.962      0.003      -4.806      -0.976\n",
      "Month_4          -3.0687      1.184     -2.591      0.010      -5.393      -0.744\n",
      "Month_5          -2.0748      1.148     -1.807      0.071      -4.328       0.179\n",
      "Month_6          -0.6379      1.037     -0.615      0.539      -2.673       1.397\n",
      "Month_7          -0.8253      1.198     -0.689      0.491      -3.176       1.525\n",
      "Month_8          -2.0806      1.136     -1.831      0.067      -4.311       0.149\n",
      "Month_9          -1.2796      1.431     -0.894      0.371      -4.088       1.529\n",
      "TaxiIn            0.8147      0.046     17.765      0.000       0.725       0.905\n",
      "TaxiOut           0.8523      0.016     52.850      0.000       0.821       0.884\n",
      "WeatherDelay     -0.0044      0.022     -0.195      0.845      -0.048       0.040\n",
      "==============================================================================\n",
      "Omnibus:                       72.452   Durbin-Watson:                   1.934\n",
      "Prob(Omnibus):                  0.000   Jarque-Bera (JB):              339.427\n",
      "Skew:                           0.052   Prob(JB):                     1.97e-74\n",
      "Kurtosis:                       5.852   Cond. No.                     3.07e+18\n",
      "==============================================================================\n",
      "\n",
      "Notes:\n",
      "[1] Standard Errors assume that the covariance matrix of the errors is correctly specified.\n",
      "[2] The smallest eigenvalue is 1.03e-28. This might indicate that there are\n",
      "strong multicollinearity problems or that the design matrix is singular.\n"
     ]
    }
   ],
   "source": [
    "X2 = sm.add_constant(X)\n",
    "est= sm.OLS(Y,X2)\n",
    "est2= est.fit()\n",
    "print(est2.summary())\n",
    "#Extraemos DayofMonth\n",
    "#Extraemos DayofWeek"
   ]
  }
 ],
 "metadata": {
  "kernelspec": {
   "display_name": "Python 3 (ipykernel)",
   "language": "python",
   "name": "python3"
  },
  "language_info": {
   "codemirror_mode": {
    "name": "ipython",
    "version": 3
   },
   "file_extension": ".py",
   "mimetype": "text/x-python",
   "name": "python",
   "nbconvert_exporter": "python",
   "pygments_lexer": "ipython3",
   "version": "3.9.13"
  }
 },
 "nbformat": 4,
 "nbformat_minor": 5
}
