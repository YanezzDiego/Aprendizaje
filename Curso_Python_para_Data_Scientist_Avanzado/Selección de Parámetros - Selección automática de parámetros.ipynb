{
 "cells": [
  {
   "cell_type": "code",
   "execution_count": 1,
   "id": "3b6267e7",
   "metadata": {},
   "outputs": [],
   "source": [
    "#Importamos librerías\n",
    "import pandas as pd \n",
    "from sklearn.preprocessing import StandardScaler\n",
    "import numpy as np\n",
    "from xgboost import XGBRegressor\n",
    "from sklearn.metrics import r2_score\n",
    "from sklearn.model_selection import train_test_split\n",
    "from sklearn import linear_model\n",
    "import statsmodels.api as sm\n",
    "from sklearn.linear_model import LinearRegression\n",
    "from sklearn.feature_selection import RFE\n",
    "from sklearn.neural_network import MLPRegressor\n",
    "from sklearn.model_selection import GridSearchCV\n"
   ]
  },
  {
   "cell_type": "code",
   "execution_count": 2,
   "id": "e9c611c1",
   "metadata": {},
   "outputs": [],
   "source": [
    "#Importamos base de datos\n",
    "df = pd.read_csv(\"base_datos_2008.csv\")"
   ]
  },
  {
   "cell_type": "code",
   "execution_count": 3,
   "id": "68898b69",
   "metadata": {},
   "outputs": [],
   "source": [
    "#Se debe utilizar solo datos que tengan valor en la variable dependiente\n",
    "df= df.dropna(subset=[\"ArrDelay\",\"Distance\",\"TaxiIn\",\"TaxiOut\",\"DepDelay\"])\n",
    "df=df.sample(frac=1).head(1000)"
   ]
  },
  {
   "cell_type": "code",
   "execution_count": 4,
   "id": "79e43959",
   "metadata": {},
   "outputs": [],
   "source": [
    "X=df[[\"Distance\",\"TaxiIn\",\"TaxiOut\",\"DepDelay\",\"AirTime\"]]\n",
    "Y=df[\"ArrDelay\"]"
   ]
  },
  {
   "cell_type": "code",
   "execution_count": 5,
   "id": "1a59f2ca",
   "metadata": {},
   "outputs": [],
   "source": [
    "X_train, X_test, y_train, y_test = train_test_split(X,Y, test_size=0.2,random_state=10)\n",
    "\n",
    "scaler=StandardScaler()\n",
    "#Siempre escalar con conjunto de train\n",
    "scaler.fit(X_train)\n",
    "\n",
    "X_train = scaler.transform(X_train)\n",
    "X_test = scaler.transform(X_test)"
   ]
  },
  {
   "cell_type": "code",
   "execution_count": 8,
   "id": "a893f3a4",
   "metadata": {},
   "outputs": [
    {
     "name": "stderr",
     "output_type": "stream",
     "text": [
      "C:\\Users\\Diego\\anaconda3\\lib\\site-packages\\sklearn\\model_selection\\_validation.py:372: FitFailedWarning: \n",
      "200 fits failed out of a total of 400.\n",
      "The score on these train-test partitions for these parameters will be set to nan.\n",
      "If these failures are not expected, you can try to debug them by setting error_score='raise'.\n",
      "\n",
      "Below are more details about the failures:\n",
      "--------------------------------------------------------------------------------\n",
      "200 fits failed with the following error:\n",
      "Traceback (most recent call last):\n",
      "  File \"C:\\Users\\Diego\\anaconda3\\lib\\site-packages\\sklearn\\model_selection\\_validation.py\", line 680, in _fit_and_score\n",
      "    estimator.fit(X_train, y_train, **fit_params)\n",
      "  File \"C:\\Users\\Diego\\anaconda3\\lib\\site-packages\\sklearn\\neural_network\\_multilayer_perceptron.py\", line 752, in fit\n",
      "    return self._fit(X, y, incremental=False)\n",
      "  File \"C:\\Users\\Diego\\anaconda3\\lib\\site-packages\\sklearn\\neural_network\\_multilayer_perceptron.py\", line 384, in _fit\n",
      "    self._validate_hyperparameters()\n",
      "  File \"C:\\Users\\Diego\\anaconda3\\lib\\site-packages\\sklearn\\neural_network\\_multilayer_perceptron.py\", line 498, in _validate_hyperparameters\n",
      "    raise ValueError(\"learning rate %s is not supported. \" % self.learning_rate)\n",
      "ValueError: learning rate adaptative is not supported. \n",
      "\n",
      "  warnings.warn(some_fits_failed_message, FitFailedWarning)\n",
      "C:\\Users\\Diego\\anaconda3\\lib\\site-packages\\sklearn\\model_selection\\_search.py:969: UserWarning: One or more of the test scores are non-finite: [-0.00376679  0.62565581         nan         nan  0.90900499  0.89175079\n",
      "         nan         nan  0.92345115  0.89419462         nan         nan\n",
      "  0.92341167  0.89105897         nan         nan  0.92564412  0.89130112\n",
      "         nan         nan  0.55390879  0.72430623         nan         nan\n",
      "  0.92394047  0.90174885         nan         nan  0.92528166  0.89960848\n",
      "         nan         nan  0.92217619  0.90504801         nan         nan\n",
      "  0.92412715  0.89720904         nan         nan  0.73290745  0.39303196\n",
      "         nan         nan  0.919014    0.90346461         nan         nan\n",
      "  0.91221625  0.89505499         nan         nan  0.91308819  0.89883414\n",
      "         nan         nan  0.92457172  0.90047246         nan         nan\n",
      "  0.74475936  0.56989864         nan         nan  0.92496469  0.90193504\n",
      "         nan         nan  0.91147257  0.9012184          nan         nan\n",
      "  0.91575811  0.89931454         nan         nan  0.90607986  0.89418927\n",
      "         nan         nan]\n",
      "  warnings.warn(\n"
     ]
    },
    {
     "data": {
      "text/plain": [
       "GridSearchCV(cv=5, estimator=MLPRegressor(max_iter=100000, warm_start=True),\n",
       "             n_jobs=-1,\n",
       "             param_grid={'alpha': [1e-06, 0.0001, 0.01, 0.1],\n",
       "                         'hidden_layer_sizes': [2, 5, 10, 50, 100],\n",
       "                         'learning_rate': ('constant', 'adaptative'),\n",
       "                         'solver': ('lbfgs', 'adam')})"
      ]
     },
     "execution_count": 8,
     "metadata": {},
     "output_type": "execute_result"
    }
   ],
   "source": [
    "#Va a explorar entre la combinación de los parámetros\n",
    "parametros={\n",
    "    \"alpha\":[0.000001 , 0.0001 , 0.01 ,0.1 ],#parametro de regularizacion \n",
    "    \"hidden_layer_sizes\":[2,5,10,50,100],#numero de capas ocultas\n",
    "    \"solver\":(\"lbfgs\",\"adam\"),#funcion de optimizacion\n",
    "    \"learning_rate\":(\"constant\",\"adaptative\"),#como aprende el algoritmo\n",
    "}\n",
    "\n",
    "nn = MLPRegressor(warm_start=True, max_iter=100000) #Defino un modelo\n",
    "clf = GridSearchCV(nn , parametros , cv=5, n_jobs=-1) #cross validation de 5 bloques y paralelizado (todos los núcleos - 1)\n",
    "clf.fit(X,Y)\n",
    "\n"
   ]
  },
  {
   "cell_type": "code",
   "execution_count": 10,
   "id": "ff92d374",
   "metadata": {},
   "outputs": [
    {
     "name": "stdout",
     "output_type": "stream",
     "text": [
      "{'alpha': 1e-06, 'hidden_layer_sizes': 100, 'learning_rate': 'constant', 'solver': 'lbfgs'}\n"
     ]
    }
   ],
   "source": [
    "print(clf.best_params_)"
   ]
  },
  {
   "cell_type": "code",
   "execution_count": 13,
   "id": "9abd257e",
   "metadata": {},
   "outputs": [],
   "source": [
    "nn2=clf.best_estimator_"
   ]
  },
  {
   "cell_type": "code",
   "execution_count": 18,
   "id": "856255f7",
   "metadata": {},
   "outputs": [
    {
     "data": {
      "text/plain": [
       "0.9415252189905144"
      ]
     },
     "execution_count": 18,
     "metadata": {},
     "output_type": "execute_result"
    }
   ],
   "source": [
    "nn2.fit(X,Y)\n",
    "nn2.predict(X)\n",
    "r2_score(Y, nn2.predict(X))"
   ]
  }
 ],
 "metadata": {
  "kernelspec": {
   "display_name": "Python 3 (ipykernel)",
   "language": "python",
   "name": "python3"
  },
  "language_info": {
   "codemirror_mode": {
    "name": "ipython",
    "version": 3
   },
   "file_extension": ".py",
   "mimetype": "text/x-python",
   "name": "python",
   "nbconvert_exporter": "python",
   "pygments_lexer": "ipython3",
   "version": "3.9.13"
  }
 },
 "nbformat": 4,
 "nbformat_minor": 5
}
