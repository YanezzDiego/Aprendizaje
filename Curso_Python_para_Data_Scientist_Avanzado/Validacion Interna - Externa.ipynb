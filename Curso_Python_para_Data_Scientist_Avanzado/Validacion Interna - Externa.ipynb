{
 "cells": [
  {
   "cell_type": "code",
   "execution_count": 19,
   "id": "3b6267e7",
   "metadata": {},
   "outputs": [],
   "source": [
    "#Importamos librerías\n",
    "import pandas as pd \n",
    "from sklearn.model_selection import train_test_split\n",
    "from sklearn import linear_model\n",
    "from sklearn.metrics import r2_score"
   ]
  },
  {
   "cell_type": "code",
   "execution_count": 3,
   "id": "e9c611c1",
   "metadata": {},
   "outputs": [],
   "source": [
    "#Importamos base de datos\n",
    "df = pd.read_csv(\"base_datos_2008.csv\")"
   ]
  },
  {
   "cell_type": "code",
   "execution_count": 7,
   "id": "d43cb8ba",
   "metadata": {},
   "outputs": [
    {
     "name": "stdout",
     "output_type": "stream",
     "text": [
      "<class 'pandas.core.frame.DataFrame'>\n",
      "RangeIndex: 7009728 entries, 0 to 7009727\n",
      "Data columns (total 29 columns):\n",
      " #   Column             Dtype  \n",
      "---  ------             -----  \n",
      " 0   Year               int64  \n",
      " 1   Month              int64  \n",
      " 2   DayofMonth         int64  \n",
      " 3   DayOfWeek          int64  \n",
      " 4   DepTime            float64\n",
      " 5   CRSDepTime         int64  \n",
      " 6   ArrTime            float64\n",
      " 7   CRSArrTime         int64  \n",
      " 8   UniqueCarrier      object \n",
      " 9   FlightNum          int64  \n",
      " 10  TailNum            object \n",
      " 11  ActualElapsedTime  float64\n",
      " 12  CRSElapsedTime     float64\n",
      " 13  AirTime            float64\n",
      " 14  ArrDelay           float64\n",
      " 15  DepDelay           float64\n",
      " 16  Origin             object \n",
      " 17  Dest               object \n",
      " 18  Distance           int64  \n",
      " 19  TaxiIn             float64\n",
      " 20  TaxiOut            float64\n",
      " 21  Cancelled          int64  \n",
      " 22  CancellationCode   object \n",
      " 23  Diverted           int64  \n",
      " 24  CarrierDelay       float64\n",
      " 25  WeatherDelay       float64\n",
      " 26  NASDelay           float64\n",
      " 27  SecurityDelay      float64\n",
      " 28  LateAircraftDelay  float64\n",
      "dtypes: float64(14), int64(10), object(5)\n",
      "memory usage: 1.5+ GB\n"
     ]
    }
   ],
   "source": [
    "df.info() #7.009.728 datos de entrada"
   ]
  },
  {
   "cell_type": "code",
   "execution_count": 8,
   "id": "68898b69",
   "metadata": {},
   "outputs": [],
   "source": [
    "#Se debe utilizar solo datos que tengan valor en la variable dependiente\n",
    "df= df.dropna(subset=\"ArrDelay\")"
   ]
  },
  {
   "cell_type": "code",
   "execution_count": 9,
   "id": "13d7dc80",
   "metadata": {},
   "outputs": [
    {
     "name": "stdout",
     "output_type": "stream",
     "text": [
      "<class 'pandas.core.frame.DataFrame'>\n",
      "Int64Index: 6855029 entries, 0 to 7009727\n",
      "Data columns (total 29 columns):\n",
      " #   Column             Dtype  \n",
      "---  ------             -----  \n",
      " 0   Year               int64  \n",
      " 1   Month              int64  \n",
      " 2   DayofMonth         int64  \n",
      " 3   DayOfWeek          int64  \n",
      " 4   DepTime            float64\n",
      " 5   CRSDepTime         int64  \n",
      " 6   ArrTime            float64\n",
      " 7   CRSArrTime         int64  \n",
      " 8   UniqueCarrier      object \n",
      " 9   FlightNum          int64  \n",
      " 10  TailNum            object \n",
      " 11  ActualElapsedTime  float64\n",
      " 12  CRSElapsedTime     float64\n",
      " 13  AirTime            float64\n",
      " 14  ArrDelay           float64\n",
      " 15  DepDelay           float64\n",
      " 16  Origin             object \n",
      " 17  Dest               object \n",
      " 18  Distance           int64  \n",
      " 19  TaxiIn             float64\n",
      " 20  TaxiOut            float64\n",
      " 21  Cancelled          int64  \n",
      " 22  CancellationCode   object \n",
      " 23  Diverted           int64  \n",
      " 24  CarrierDelay       float64\n",
      " 25  WeatherDelay       float64\n",
      " 26  NASDelay           float64\n",
      " 27  SecurityDelay      float64\n",
      " 28  LateAircraftDelay  float64\n",
      "dtypes: float64(14), int64(10), object(5)\n",
      "memory usage: 1.5+ GB\n"
     ]
    }
   ],
   "source": [
    "df.info() #Se han reducido a 6.855.029 datos"
   ]
  },
  {
   "cell_type": "code",
   "execution_count": 18,
   "id": "79e43959",
   "metadata": {},
   "outputs": [
    {
     "name": "stdout",
     "output_type": "stream",
     "text": [
      "5909375    -9.0\n",
      "4539853    -4.0\n",
      "6994252    14.0\n",
      "1077298     3.0\n",
      "4583604     4.0\n",
      "           ... \n",
      "2089737    -4.0\n",
      "6100108    10.0\n",
      "4208913     9.0\n",
      "5983526    -2.0\n",
      "2034174    -6.0\n",
      "Name: ArrDelay, Length: 1000, dtype: float64\n",
      "         AirTime  Distance  DepDelay\n",
      "5909375     86.0       563      -7.0\n",
      "4539853     86.0       581      -4.0\n",
      "6994252     92.0       712      10.0\n",
      "1077298    142.0      1192       5.0\n",
      "4583604    121.0       853      -1.0\n",
      "...          ...       ...       ...\n",
      "2089737     57.0       370       0.0\n",
      "6100108     85.0       532       3.0\n",
      "4208913    228.0      1946      26.0\n",
      "5983526     30.0       178       4.0\n",
      "2034174     58.0       337      -1.0\n",
      "\n",
      "[1000 rows x 3 columns]\n"
     ]
    }
   ],
   "source": [
    "#Solo se utilizarán 1.000\n",
    "df=df.sample(frac=1).head(1000)\n",
    "\n",
    "X=df[[\"AirTime\",\"Distance\",\"DepDelay\"]]\n",
    "Y=df[\"ArrDelay\"]"
   ]
  },
  {
   "cell_type": "code",
   "execution_count": 29,
   "id": "d7298c12",
   "metadata": {},
   "outputs": [],
   "source": [
    "X_train, X_test, y_train, y_test = train_test_split(X, Y, test_size=0.2, random_state= 10 )"
   ]
  },
  {
   "cell_type": "code",
   "execution_count": 30,
   "id": "778f2c28",
   "metadata": {},
   "outputs": [
    {
     "name": "stdout",
     "output_type": "stream",
     "text": [
      "R2_score: 0.8778489313956165\n"
     ]
    }
   ],
   "source": [
    "#Regresion Interna = Entrenar con todos los datos y probar con todos los datos.\n",
    "regrINT= linear_model.LinearRegression()\n",
    "regrINT.fit(X,Y)\n",
    "predINT= regrINT.predict(X)\n",
    "print(f\"R2_score: { r2_score(Y,predINT) }\")"
   ]
  },
  {
   "cell_type": "code",
   "execution_count": 31,
   "id": "d45a4c19",
   "metadata": {},
   "outputs": [
    {
     "name": "stdout",
     "output_type": "stream",
     "text": [
      "R2_score: 0.9297054497374797\n"
     ]
    }
   ],
   "source": [
    "#Regresion Externa = Entrenar con un % y testear con el restante.\n",
    "regrEXT= linear_model.LinearRegression()\n",
    "regrEXT.fit(X_train,y_train)\n",
    "predEXT= regrEXT.predict(X_test)\n",
    "print(f\"R2_score: { r2_score(y_test,predEXT) }\")"
   ]
  }
 ],
 "metadata": {
  "kernelspec": {
   "display_name": "Python 3 (ipykernel)",
   "language": "python",
   "name": "python3"
  },
  "language_info": {
   "codemirror_mode": {
    "name": "ipython",
    "version": 3
   },
   "file_extension": ".py",
   "mimetype": "text/x-python",
   "name": "python",
   "nbconvert_exporter": "python",
   "pygments_lexer": "ipython3",
   "version": "3.9.13"
  }
 },
 "nbformat": 4,
 "nbformat_minor": 5
}
