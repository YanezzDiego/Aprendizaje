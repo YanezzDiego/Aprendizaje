{
 "cells": [
  {
   "cell_type": "code",
   "execution_count": 7,
   "id": "3b6267e7",
   "metadata": {},
   "outputs": [],
   "source": [
    "#Importamos librerías\n",
    "import pandas as pd \n",
    "from sklearn.preprocessing import StandardScaler\n",
    "import numpy as np\n",
    "from xgboost import XGBRegressor\n",
    "from sklearn.metrics import r2_score\n",
    "from sklearn.model_selection import train_test_split\n",
    "from sklearn import linear_model\n",
    "import statsmodels.api as sm\n",
    "from sklearn.linear_model import LinearRegression\n",
    "from sklearn.feature_selection import RFE"
   ]
  },
  {
   "cell_type": "code",
   "execution_count": 8,
   "id": "e9c611c1",
   "metadata": {},
   "outputs": [],
   "source": [
    "#Importamos base de datos\n",
    "df = pd.read_csv(\"base_datos_2008.csv\")"
   ]
  },
  {
   "cell_type": "code",
   "execution_count": 9,
   "id": "68898b69",
   "metadata": {},
   "outputs": [],
   "source": [
    "#Se debe utilizar solo datos que tengan valor en la variable dependiente\n",
    "df= df.dropna(subset=[\"ArrDelay\",\"Distance\",\"TaxiIn\",\"TaxiOut\",\"DepDelay\",\"AirTime\",\"Month\",\"DayofMonth\",\"DayOfWeek\",\"WeatherDelay\"])\n",
    "df=df.sample(frac=1).head(1000)"
   ]
  },
  {
   "cell_type": "code",
   "execution_count": 10,
   "id": "79e43959",
   "metadata": {},
   "outputs": [],
   "source": [
    "X=df[[\"Distance\",\"TaxiIn\",\"TaxiOut\",\"DepDelay\",\"AirTime\",\"Month\",\"DayofMonth\",\"DayOfWeek\",\"WeatherDelay\"]]\n",
    "Y=df[\"ArrDelay\"]\n",
    "regr= LinearRegression()"
   ]
  },
  {
   "cell_type": "code",
   "execution_count": 15,
   "id": "d33e2fbd",
   "metadata": {},
   "outputs": [
    {
     "data": {
      "text/plain": [
       "RFE(estimator=LinearRegression(), n_features_to_select=1)"
      ]
     },
     "execution_count": 15,
     "metadata": {},
     "output_type": "execute_result"
    }
   ],
   "source": [
    "selector = RFE(estimator=regr , n_features_to_select= 1)\n",
    "selector.fit(X,Y)"
   ]
  },
  {
   "cell_type": "code",
   "execution_count": 16,
   "id": "1108f771",
   "metadata": {},
   "outputs": [
    {
     "name": "stdout",
     "output_type": "stream",
     "text": [
      "[6 2 3 1 5 8 7 4 9]\n"
     ]
    }
   ],
   "source": [
    "print(selector.ranking_)"
   ]
  },
  {
   "cell_type": "code",
   "execution_count": 14,
   "id": "8aa6f6d0",
   "metadata": {},
   "outputs": [
    {
     "data": {
      "text/plain": [
       "Index(['TaxiIn', 'TaxiOut', 'DepDelay', 'AirTime', 'DayOfWeek'], dtype='object')"
      ]
     },
     "execution_count": 14,
     "metadata": {},
     "output_type": "execute_result"
    }
   ],
   "source": [
    "X.columns[selector.support_]"
   ]
  },
  {
   "cell_type": "code",
   "execution_count": 19,
   "id": "a623deb3",
   "metadata": {},
   "outputs": [],
   "source": [
    "X=df[[\"DepDelay\",\"TaxiIn\",\"TaxiOut\"]]"
   ]
  },
  {
   "cell_type": "code",
   "execution_count": 20,
   "id": "75d4f486",
   "metadata": {},
   "outputs": [
    {
     "name": "stdout",
     "output_type": "stream",
     "text": [
      "                            OLS Regression Results                            \n",
      "==============================================================================\n",
      "Dep. Variable:               ArrDelay   R-squared:                       0.956\n",
      "Model:                            OLS   Adj. R-squared:                  0.956\n",
      "Method:                 Least Squares   F-statistic:                     7170.\n",
      "Date:                Fri, 27 Oct 2023   Prob (F-statistic):               0.00\n",
      "Time:                        00:16:35   Log-Likelihood:                -3985.0\n",
      "No. Observations:                1000   AIC:                             7978.\n",
      "Df Residuals:                     996   BIC:                             7998.\n",
      "Df Model:                           3                                         \n",
      "Covariance Type:            nonrobust                                         \n",
      "==============================================================================\n",
      "                 coef    std err          t      P>|t|      [0.025      0.975]\n",
      "------------------------------------------------------------------------------\n",
      "const        -14.2241      0.877    -16.217      0.000     -15.945     -12.503\n",
      "DepDelay       0.9473      0.007    144.530      0.000       0.934       0.960\n",
      "TaxiIn         0.8265      0.056     14.780      0.000       0.717       0.936\n",
      "TaxiOut        0.7795      0.020     38.364      0.000       0.740       0.819\n",
      "==============================================================================\n",
      "Omnibus:                      123.263   Durbin-Watson:                   2.046\n",
      "Prob(Omnibus):                  0.000   Jarque-Bera (JB):              532.157\n",
      "Skew:                           0.497   Prob(JB):                    2.78e-116\n",
      "Kurtosis:                       6.433   Cond. No.                         174.\n",
      "==============================================================================\n",
      "\n",
      "Notes:\n",
      "[1] Standard Errors assume that the covariance matrix of the errors is correctly specified.\n"
     ]
    }
   ],
   "source": [
    "X2 = sm.add_constant(X)\n",
    "est= sm.OLS(Y,X2)\n",
    "est2= est.fit()\n",
    "print(est2.summary())"
   ]
  }
 ],
 "metadata": {
  "kernelspec": {
   "display_name": "Python 3 (ipykernel)",
   "language": "python",
   "name": "python3"
  },
  "language_info": {
   "codemirror_mode": {
    "name": "ipython",
    "version": 3
   },
   "file_extension": ".py",
   "mimetype": "text/x-python",
   "name": "python",
   "nbconvert_exporter": "python",
   "pygments_lexer": "ipython3",
   "version": "3.9.13"
  }
 },
 "nbformat": 4,
 "nbformat_minor": 5
}
