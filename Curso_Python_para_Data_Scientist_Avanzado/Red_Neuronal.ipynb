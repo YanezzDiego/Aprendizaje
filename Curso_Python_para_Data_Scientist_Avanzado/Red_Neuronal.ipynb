{
 "cells": [
  {
   "cell_type": "code",
   "execution_count": 3,
   "id": "3b6267e7",
   "metadata": {},
   "outputs": [],
   "source": [
    "#Importamos librerías\n",
    "import pandas as pd \n",
    "from sklearn.neural_network import MLPClassifier #Categóricos\n",
    "from sklearn.neural_network import MLPRegressor #Numéricos\n",
    "from sklearn.preprocessing import StandardScaler\n",
    "import numpy as np\n",
    "import matplotlib.pyplot as plt\n",
    "from sklearn.metrics import r2_score\n",
    "from sklearn.model_selection import train_test_split"
   ]
  },
  {
   "cell_type": "code",
   "execution_count": 4,
   "id": "e9c611c1",
   "metadata": {},
   "outputs": [],
   "source": [
    "#Importamos base de datos\n",
    "df = pd.read_csv(\"base_datos_2008.csv\")"
   ]
  },
  {
   "cell_type": "code",
   "execution_count": 5,
   "id": "68898b69",
   "metadata": {},
   "outputs": [],
   "source": [
    "#Se debe utilizar solo datos que tengan valor en la variable dependiente\n",
    "df= df.dropna(subset=[\"ArrDelay\",\"Distance\",\"TaxiIn\",\"TaxiOut\",\"DepDelay\"])\n",
    "df=df.sample(frac=1).head(1000)"
   ]
  },
  {
   "cell_type": "code",
   "execution_count": 7,
   "id": "79e43959",
   "metadata": {},
   "outputs": [],
   "source": [
    "X=df[[\"AirTime\",\"Distance\",\"TaxiIn\",\"TaxiOut\",\"DepDelay\"]]\n",
    "Y=df[\"ArrDelay\"]"
   ]
  },
  {
   "cell_type": "code",
   "execution_count": 8,
   "id": "ef9a7f45",
   "metadata": {},
   "outputs": [],
   "source": [
    "X_train, X_test, y_train, y_test = train_test_split(X,Y, test_size=0.2, random_state=10)"
   ]
  },
  {
   "cell_type": "code",
   "execution_count": 9,
   "id": "506f04d9",
   "metadata": {},
   "outputs": [
    {
     "data": {
      "text/plain": [
       "StandardScaler()"
      ]
     },
     "execution_count": 9,
     "metadata": {},
     "output_type": "execute_result"
    }
   ],
   "source": [
    "scaler=StandardScaler()\n",
    "scaler.fit(X_train)"
   ]
  },
  {
   "cell_type": "code",
   "execution_count": 10,
   "id": "77ecf984",
   "metadata": {},
   "outputs": [],
   "source": [
    "X_train= scaler.transform(X_train)\n",
    "X_test= scaler.transform(X_test)"
   ]
  },
  {
   "cell_type": "code",
   "execution_count": 28,
   "id": "c5c216a0",
   "metadata": {},
   "outputs": [
    {
     "name": "stdout",
     "output_type": "stream",
     "text": [
      "El R2 score del modelo es: 0.9238839421564448\n"
     ]
    }
   ],
   "source": [
    "clf = MLPRegressor(solver=\"lbfgs\",alpha=1e-5,hidden_layer_sizes= (4,), max_iter=100000000)\n",
    "model= clf.fit(X_train , y_train)\n",
    "predictions= model.predict(X_test)\n",
    "\n",
    "print(f\"El R2 score del modelo es: {r2_score(y_test , predictions)}\")"
   ]
  }
 ],
 "metadata": {
  "kernelspec": {
   "display_name": "Python 3 (ipykernel)",
   "language": "python",
   "name": "python3"
  },
  "language_info": {
   "codemirror_mode": {
    "name": "ipython",
    "version": 3
   },
   "file_extension": ".py",
   "mimetype": "text/x-python",
   "name": "python",
   "nbconvert_exporter": "python",
   "pygments_lexer": "ipython3",
   "version": "3.9.13"
  }
 },
 "nbformat": 4,
 "nbformat_minor": 5
}
