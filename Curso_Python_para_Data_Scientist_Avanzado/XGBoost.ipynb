{
 "cells": [
  {
   "cell_type": "code",
   "execution_count": 7,
   "id": "3b6267e7",
   "metadata": {},
   "outputs": [],
   "source": [
    "#Importamos librerías\n",
    "import pandas as pd \n",
    "from sklearn.preprocessing import StandardScaler\n",
    "import numpy as np\n",
    "from xgboost import XGBRegressor\n",
    "from sklearn.metrics import r2_score\n",
    "from sklearn.model_selection import train_test_split"
   ]
  },
  {
   "cell_type": "code",
   "execution_count": 30,
   "id": "e9c611c1",
   "metadata": {},
   "outputs": [],
   "source": [
    "#Importamos base de datos\n",
    "df = pd.read_csv(\"base_datos_2008.csv\")"
   ]
  },
  {
   "cell_type": "code",
   "execution_count": 31,
   "id": "68898b69",
   "metadata": {},
   "outputs": [],
   "source": [
    "#Se debe utilizar solo datos que tengan valor en la variable dependiente\n",
    "df= df.dropna(subset=[\"ArrDelay\",\"Distance\",\"TaxiIn\",\"TaxiOut\",\"DepDelay\"])\n",
    "df=df.sample(frac=1).head(1000)"
   ]
  },
  {
   "cell_type": "code",
   "execution_count": 32,
   "id": "79e43959",
   "metadata": {},
   "outputs": [],
   "source": [
    "X=df[[\"AirTime\",\"Distance\",\"TaxiIn\",\"TaxiOut\",\"DepDelay\"]]\n",
    "Y=df[\"ArrDelay\"]"
   ]
  },
  {
   "cell_type": "code",
   "execution_count": null,
   "id": "5635ab37",
   "metadata": {},
   "outputs": [],
   "source": [
    "#df[\"Month\"]=df[\"Month\"].apply(str)\n",
    "#df[\"DayofMonth\"]=df[\"DayofMonth\"].apply(str)\n",
    "#df[\"DayOfWeek\"]=df[\"DayOfWeek\"].apply(str)\n",
    "#dummies=pd.get_dummies(data=df[[\"Month\",\"DayofMonth\",\"DayOfWeek\",\"Origin\",\"Dest\"]])\n",
    "#X=dummies.add(X,fill_value=0)"
   ]
  },
  {
   "cell_type": "code",
   "execution_count": 33,
   "id": "ef9a7f45",
   "metadata": {},
   "outputs": [],
   "source": [
    "X_train, X_test, y_train, y_test = train_test_split(X,Y, test_size=0.2, random_state=10)"
   ]
  },
  {
   "cell_type": "code",
   "execution_count": 34,
   "id": "506f04d9",
   "metadata": {},
   "outputs": [
    {
     "data": {
      "text/plain": [
       "StandardScaler()"
      ]
     },
     "execution_count": 34,
     "metadata": {},
     "output_type": "execute_result"
    }
   ],
   "source": [
    "scaler=StandardScaler()\n",
    "scaler.fit(X_train)"
   ]
  },
  {
   "cell_type": "code",
   "execution_count": 35,
   "id": "77ecf984",
   "metadata": {},
   "outputs": [],
   "source": [
    "X_train= scaler.transform(X_train)\n",
    "X_test= scaler.transform(X_test)"
   ]
  },
  {
   "cell_type": "code",
   "execution_count": 40,
   "id": "c5c216a0",
   "metadata": {},
   "outputs": [
    {
     "data": {
      "text/plain": [
       "XGBRegressor(base_score=None, booster=None, callbacks=None,\n",
       "             colsample_bylevel=None, colsample_bynode=None, colsample_bytree=1,\n",
       "             device=None, early_stopping_rounds=None, enable_categorical=False,\n",
       "             eval_metric=None, feature_types=None, gamma=None, grow_policy=None,\n",
       "             importance_type=None, interaction_constraints=None,\n",
       "             learning_rate=0.5, max_bin=None, max_cat_threshold=None,\n",
       "             max_cat_to_onehot=None, max_delta_step=None, max_depth=2,\n",
       "             max_leaves=None, min_child_weight=None, missing=nan,\n",
       "             monotone_constraints=None, multi_strategy=None, n_estimators=500,\n",
       "             n_jobs=-1, num_parallel_tree=None, random_state=None, ...)"
      ]
     },
     "execution_count": 40,
     "metadata": {},
     "output_type": "execute_result"
    }
   ],
   "source": [
    "model=XGBRegressor(n_jobs=-1 , learning_rate=.5 , max_depth=2 , colsample_bytree=1, verbosity=2, subsample= 1, n_estimators=500)\n",
    "model.fit(X_train, y_train)\n"
   ]
  },
  {
   "cell_type": "code",
   "execution_count": null,
   "id": "121282e9",
   "metadata": {},
   "outputs": [],
   "source": [
    "predictions= model.predict(X_test)\n",
    "print(f\"El R2 score del modelo es: {r2_score(y_test , predictions)}\")"
   ]
  }
 ],
 "metadata": {
  "kernelspec": {
   "display_name": "Python 3 (ipykernel)",
   "language": "python",
   "name": "python3"
  },
  "language_info": {
   "codemirror_mode": {
    "name": "ipython",
    "version": 3
   },
   "file_extension": ".py",
   "mimetype": "text/x-python",
   "name": "python",
   "nbconvert_exporter": "python",
   "pygments_lexer": "ipython3",
   "version": "3.9.13"
  }
 },
 "nbformat": 4,
 "nbformat_minor": 5
}
