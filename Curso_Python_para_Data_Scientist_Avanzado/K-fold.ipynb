{
 "cells": [
  {
   "cell_type": "code",
   "execution_count": 1,
   "id": "3b6267e7",
   "metadata": {},
   "outputs": [],
   "source": [
    "#Importamos librerías\n",
    "import pandas as pd \n",
    "from sklearn.model_selection import KFold\n",
    "from sklearn import linear_model\n",
    "from sklearn.metrics import r2_score\n",
    "import numpy as np"
   ]
  },
  {
   "cell_type": "code",
   "execution_count": 7,
   "id": "e9c611c1",
   "metadata": {},
   "outputs": [],
   "source": [
    "#Importamos base de datos\n",
    "df = pd.read_csv(\"base_datos_2008.csv\")"
   ]
  },
  {
   "cell_type": "code",
   "execution_count": 8,
   "id": "68898b69",
   "metadata": {},
   "outputs": [],
   "source": [
    "#Se debe utilizar solo datos que tengan valor en la variable dependiente\n",
    "df= df.dropna(subset=\"ArrDelay\")"
   ]
  },
  {
   "cell_type": "code",
   "execution_count": 9,
   "id": "79e43959",
   "metadata": {},
   "outputs": [],
   "source": [
    "#Solo se utilizarán 1.000\n",
    "df=df.sample(frac=1).head(5000)\n",
    "df=df.reset_index()\n",
    "\n",
    "X=df[[\"AirTime\",\"Distance\",\"DepDelay\"]]\n",
    "Y=df[\"ArrDelay\"]"
   ]
  },
  {
   "cell_type": "code",
   "execution_count": 6,
   "id": "d7298c12",
   "metadata": {},
   "outputs": [
    {
     "data": {
      "text/plain": [
       "10"
      ]
     },
     "execution_count": 6,
     "metadata": {},
     "output_type": "execute_result"
    }
   ],
   "source": [
    "kf= KFold(n_splits=10, shuffle=True) #10 particiones y se mezclaran para evitar sesgos si es que los datos estuviesen ordenados\n",
    "kf.get_n_splits(X)"
   ]
  },
  {
   "cell_type": "code",
   "execution_count": 15,
   "id": "40900fed",
   "metadata": {},
   "outputs": [
    {
     "name": "stdout",
     "output_type": "stream",
     "text": [
      "R2 score:0.9265784201234382\n",
      "R2 score:0.9083461893026821\n",
      "R2 score:0.85372237341116\n",
      "R2 score:0.8394313709228327\n",
      "R2 score:0.8502371784371208\n",
      "R2 score:0.8078107571819702\n",
      "R2 score:0.8663850174209271\n",
      "R2 score:0.9114527721875101\n",
      "R2 score:0.8499551801996116\n",
      "R2 score:0.9083102278499703\n",
      "\n",
      "R2 score promedio KFold: 0.8722229487037223\n"
     ]
    }
   ],
   "source": [
    "regr = linear_model.LinearRegression()\n",
    "resultados=[]\n",
    "\n",
    "for train_index, test_index in kf.split(X):\n",
    "    X_train, X_test = X.loc[train_index], X.loc[test_index]\n",
    "    y_train, y_test = Y.loc[train_index], Y.loc[test_index]\n",
    "    regr.fit(X_train, y_train)\n",
    "    pred= regr.predict(X_test)\n",
    "    print(f\"R2 score:{r2_score(y_test,pred)}\")\n",
    "    resultados.append(r2_score(y_test,pred))\n",
    "    \n",
    "print()\n",
    "print(f\"R2 score promedio KFold: { np.mean(resultados) }\")"
   ]
  }
 ],
 "metadata": {
  "kernelspec": {
   "display_name": "Python 3 (ipykernel)",
   "language": "python",
   "name": "python3"
  },
  "language_info": {
   "codemirror_mode": {
    "name": "ipython",
    "version": 3
   },
   "file_extension": ".py",
   "mimetype": "text/x-python",
   "name": "python",
   "nbconvert_exporter": "python",
   "pygments_lexer": "ipython3",
   "version": "3.9.13"
  }
 },
 "nbformat": 4,
 "nbformat_minor": 5
}
